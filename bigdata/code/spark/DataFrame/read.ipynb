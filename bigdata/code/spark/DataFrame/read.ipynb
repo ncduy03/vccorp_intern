{
 "cells": [
  {
   "cell_type": "code",
   "id": "initial_id",
   "metadata": {
    "collapsed": true,
    "ExecuteTime": {
     "end_time": "2025-03-28T02:47:32.592950Z",
     "start_time": "2025-03-28T02:47:27.593508Z"
    }
   },
   "source": [
    "from pyspark.sql import SparkSession\n",
    "\n",
    "spark = (SparkSession.builder.appName(\"read\")\n",
    "         .master(\"local[*]\")\n",
    "         .config(\"spark.executor.memory\", \"1g\")\n",
    "         .getOrCreate()\n",
    "         )"
   ],
   "outputs": [],
   "execution_count": 1
  },
  {
   "metadata": {},
   "cell_type": "markdown",
   "source": "# StrucType Schema",
   "id": "5b049e1f95ce82c0"
  },
  {
   "metadata": {
    "ExecuteTime": {
     "end_time": "2025-03-28T02:49:53.496576Z",
     "start_time": "2025-03-28T02:49:53.480529Z"
    }
   },
   "cell_type": "code",
   "source": "from pyspark.sql.types import *",
   "id": "a1030f8b36e85df7",
   "outputs": [],
   "execution_count": 6
  },
  {
   "metadata": {
    "ExecuteTime": {
     "end_time": "2025-03-28T02:49:55.366966Z",
     "start_time": "2025-03-28T02:49:55.351330Z"
    }
   },
   "cell_type": "code",
   "source": [
    "schema = StructType([\n",
    "    StructField(\"customer_id\", IntegerType(), True),\n",
    "    StructField(\"name\", StringType(), True),\n",
    "    StructField(\"city\", StringType(), True),\n",
    "    StructField(\"state\", StringType(), True),\n",
    "    StructField(\"country\", StringType(), True),\n",
    "    StructField(\"registration_date\", DateType(), True),\n",
    "    StructField(\"is_active\", BooleanType(), True)\n",
    "])"
   ],
   "id": "a63b4054b64735fb",
   "outputs": [],
   "execution_count": 7
  },
  {
   "metadata": {
    "ExecuteTime": {
     "end_time": "2025-03-28T02:50:58.808744Z",
     "start_time": "2025-03-28T02:50:56.393445Z"
    }
   },
   "cell_type": "code",
   "source": [
    "df = (spark.read.format('csv')\n",
    "      .option('header', 'true')\n",
    "      .schema(schema)\n",
    "      .load('../Data/customers.csv'))"
   ],
   "id": "c0122bfd48273ae1",
   "outputs": [],
   "execution_count": 8
  },
  {
   "metadata": {
    "ExecuteTime": {
     "end_time": "2025-03-28T02:52:36.870116Z",
     "start_time": "2025-03-28T02:52:33.512786Z"
    }
   },
   "cell_type": "code",
   "source": "df.show()",
   "id": "95fd658c64d90ce6",
   "outputs": [
    {
     "name": "stdout",
     "output_type": "stream",
     "text": [
      "+-----------+-----------+---------+-----------+-------+-----------------+---------+\n",
      "|customer_id|       name|     city|      state|country|registration_date|is_active|\n",
      "+-----------+-----------+---------+-----------+-------+-----------------+---------+\n",
      "|          0| Customer_0|     Pune|West Bengal|  India|       2023-10-10|     true|\n",
      "|          1| Customer_1|Bangalore|    Gujarat|  India|       2023-10-19|    false|\n",
      "|          2| Customer_2|Bangalore|  Karnataka|  India|       2023-02-10|     true|\n",
      "|          3| Customer_3|Bangalore|  Telangana|  India|       2023-03-24|     true|\n",
      "|          4| Customer_4|Hyderabad|  Telangana|  India|       2023-06-04|    false|\n",
      "|          5| Customer_5|Hyderabad|West Bengal|  India|       2023-07-26|     true|\n",
      "|          6| Customer_6|Hyderabad|  Karnataka|  India|       2023-08-07|    false|\n",
      "|          7| Customer_7|Bangalore|  Telangana|  India|       2023-08-25|     true|\n",
      "|          8| Customer_8|Bangalore|Maharashtra|  India|       2023-07-13|    false|\n",
      "|          9| Customer_9|Ahmedabad|      Delhi|  India|       2023-07-30|    false|\n",
      "|         10|Customer_10|  Chennai|    Gujarat|  India|       2023-01-14|    false|\n",
      "|         11|Customer_11|     Pune|West Bengal|  India|       2023-04-10|     true|\n",
      "|         12|Customer_12|    Delhi| Tamil Nadu|  India|       2023-06-20|     true|\n",
      "|         13|Customer_13|Ahmedabad|      Delhi|  India|       2023-11-09|     true|\n",
      "|         14|Customer_14|Ahmedabad|West Bengal|  India|       2023-02-18|     true|\n",
      "|         15|Customer_15|   Mumbai|  Telangana|  India|       2023-04-25|    false|\n",
      "|         16|Customer_16|    Delhi| Tamil Nadu|  India|       2023-04-25|    false|\n",
      "|         17|Customer_17|  Chennai|    Gujarat|  India|       2023-05-05|    false|\n",
      "|         18|Customer_18|Ahmedabad|    Gujarat|  India|       2023-08-06|     true|\n",
      "|         19|Customer_19|    Delhi|  Telangana|  India|       2023-04-27|     true|\n",
      "+-----------+-----------+---------+-----------+-------+-----------------+---------+\n",
      "only showing top 20 rows\n",
      "\n"
     ]
    }
   ],
   "execution_count": 9
  },
  {
   "metadata": {
    "ExecuteTime": {
     "end_time": "2025-03-28T02:52:44.943325Z",
     "start_time": "2025-03-28T02:52:44.930210Z"
    }
   },
   "cell_type": "code",
   "source": "df.printSchema()",
   "id": "9956578634a45480",
   "outputs": [
    {
     "name": "stdout",
     "output_type": "stream",
     "text": [
      "root\n",
      " |-- customer_id: integer (nullable = true)\n",
      " |-- name: string (nullable = true)\n",
      " |-- city: string (nullable = true)\n",
      " |-- state: string (nullable = true)\n",
      " |-- country: string (nullable = true)\n",
      " |-- registration_date: date (nullable = true)\n",
      " |-- is_active: boolean (nullable = true)\n",
      "\n"
     ]
    }
   ],
   "execution_count": 10
  },
  {
   "metadata": {},
   "cell_type": "markdown",
   "source": "# DDL Schema",
   "id": "60e5bac79f2872cf"
  },
  {
   "metadata": {
    "ExecuteTime": {
     "end_time": "2025-03-28T02:55:11.875177Z",
     "start_time": "2025-03-28T02:55:11.861107Z"
    }
   },
   "cell_type": "code",
   "source": "ddl_schema = 'customer_id INT, name STRING, city STRING, state STRING, country STRING, registration_date STRING, is_active BOOLEAN'",
   "id": "b7ca0762a72e4199",
   "outputs": [],
   "execution_count": 11
  },
  {
   "metadata": {
    "ExecuteTime": {
     "end_time": "2025-03-28T02:56:00.462632Z",
     "start_time": "2025-03-28T02:56:00.382059Z"
    }
   },
   "cell_type": "code",
   "source": [
    "df_ddl = (spark.read.format('csv')\n",
    "          .option('header', 'true')\n",
    "          .schema(ddl_schema)\n",
    "          .load('../Data/customers.csv'))"
   ],
   "id": "59fdad6d5d3c45a",
   "outputs": [],
   "execution_count": 12
  },
  {
   "metadata": {
    "ExecuteTime": {
     "end_time": "2025-03-28T02:56:08.496813Z",
     "start_time": "2025-03-28T02:56:08.490386Z"
    }
   },
   "cell_type": "code",
   "source": "df_ddl.printSchema()",
   "id": "a687bbd6d6b74f65",
   "outputs": [
    {
     "name": "stdout",
     "output_type": "stream",
     "text": [
      "root\n",
      " |-- customer_id: integer (nullable = true)\n",
      " |-- name: string (nullable = true)\n",
      " |-- city: string (nullable = true)\n",
      " |-- state: string (nullable = true)\n",
      " |-- country: string (nullable = true)\n",
      " |-- registration_date: string (nullable = true)\n",
      " |-- is_active: boolean (nullable = true)\n",
      "\n"
     ]
    }
   ],
   "execution_count": 13
  },
  {
   "metadata": {
    "ExecuteTime": {
     "end_time": "2025-03-28T02:56:14.422130Z",
     "start_time": "2025-03-28T02:56:14.205299Z"
    }
   },
   "cell_type": "code",
   "source": "df_ddl.show()",
   "id": "da1aeb5af15875d9",
   "outputs": [
    {
     "name": "stdout",
     "output_type": "stream",
     "text": [
      "+-----------+-----------+---------+-----------+-------+-----------------+---------+\n",
      "|customer_id|       name|     city|      state|country|registration_date|is_active|\n",
      "+-----------+-----------+---------+-----------+-------+-----------------+---------+\n",
      "|          0| Customer_0|     Pune|West Bengal|  India|       2023-10-10|     true|\n",
      "|          1| Customer_1|Bangalore|    Gujarat|  India|       2023-10-19|    false|\n",
      "|          2| Customer_2|Bangalore|  Karnataka|  India|       2023-02-10|     true|\n",
      "|          3| Customer_3|Bangalore|  Telangana|  India|       2023-03-24|     true|\n",
      "|          4| Customer_4|Hyderabad|  Telangana|  India|       2023-06-04|    false|\n",
      "|          5| Customer_5|Hyderabad|West Bengal|  India|       2023-07-26|     true|\n",
      "|          6| Customer_6|Hyderabad|  Karnataka|  India|       2023-08-07|    false|\n",
      "|          7| Customer_7|Bangalore|  Telangana|  India|       2023-08-25|     true|\n",
      "|          8| Customer_8|Bangalore|Maharashtra|  India|       2023-07-13|    false|\n",
      "|          9| Customer_9|Ahmedabad|      Delhi|  India|       2023-07-30|    false|\n",
      "|         10|Customer_10|  Chennai|    Gujarat|  India|       2023-01-14|    false|\n",
      "|         11|Customer_11|     Pune|West Bengal|  India|       2023-04-10|     true|\n",
      "|         12|Customer_12|    Delhi| Tamil Nadu|  India|       2023-06-20|     true|\n",
      "|         13|Customer_13|Ahmedabad|      Delhi|  India|       2023-11-09|     true|\n",
      "|         14|Customer_14|Ahmedabad|West Bengal|  India|       2023-02-18|     true|\n",
      "|         15|Customer_15|   Mumbai|  Telangana|  India|       2023-04-25|    false|\n",
      "|         16|Customer_16|    Delhi| Tamil Nadu|  India|       2023-04-25|    false|\n",
      "|         17|Customer_17|  Chennai|    Gujarat|  India|       2023-05-05|    false|\n",
      "|         18|Customer_18|Ahmedabad|    Gujarat|  India|       2023-08-06|     true|\n",
      "|         19|Customer_19|    Delhi|  Telangana|  India|       2023-04-27|     true|\n",
      "+-----------+-----------+---------+-----------+-------+-----------------+---------+\n",
      "only showing top 20 rows\n",
      "\n"
     ]
    }
   ],
   "execution_count": 14
  },
  {
   "metadata": {},
   "cell_type": "code",
   "outputs": [],
   "execution_count": null,
   "source": "",
   "id": "2c167fb8ac1e3cc9"
  }
 ],
 "metadata": {
  "kernelspec": {
   "display_name": "Python 3",
   "language": "python",
   "name": "python3"
  },
  "language_info": {
   "codemirror_mode": {
    "name": "ipython",
    "version": 2
   },
   "file_extension": ".py",
   "mimetype": "text/x-python",
   "name": "python",
   "nbconvert_exporter": "python",
   "pygments_lexer": "ipython2",
   "version": "2.7.6"
  }
 },
 "nbformat": 4,
 "nbformat_minor": 5
}
