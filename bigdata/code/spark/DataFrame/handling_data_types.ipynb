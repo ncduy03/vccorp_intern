{
 "cells": [
  {
   "cell_type": "code",
   "id": "initial_id",
   "metadata": {
    "collapsed": true,
    "ExecuteTime": {
     "end_time": "2025-03-28T03:16:44.056636Z",
     "start_time": "2025-03-28T03:16:42.928173Z"
    }
   },
   "source": [
    "from pyspark.sql import SparkSession\n",
    "from pyspark.sql.types import *\n",
    "spark = (SparkSession.builder.appName(\"handling_data_types\")\n",
    "         .master(\"local[*]\")\n",
    "         .config(\"spark.executor.memory\", \"1g\")\n",
    "         .getOrCreate()\n",
    "         )"
   ],
   "outputs": [],
   "execution_count": 2
  },
  {
   "metadata": {
    "ExecuteTime": {
     "end_time": "2025-03-28T03:21:48.155600Z",
     "start_time": "2025-03-28T03:21:36.362777Z"
    }
   },
   "cell_type": "code",
   "source": [
    "# Sample data\n",
    "data = [\n",
    "    (1, \"John Doe\", \"Bangalore\", \"2023-01-15\", \"152.75\", \"True\"),\n",
    "    (2, \"Jane Smith\", \"Delhi\", \"2023-05-20\", \"89.50\", \"False\"),\n",
    "    (3, \"Robert Brown\", \"Mumbai\", \"InvalidDate\", \"200.00\", \"True\"),\n",
    "    (4, \"Linda White\", \"Kolkata\", \"2023-02-29\", None, \"yes\"),  # Feb 29 invalid in 2023\n",
    "    (5, \"Mike Green\", \"Chennai\", \"2023-08-10\", \"NaN\", \"1\"),     # NaN needs handling\n",
    "    (6, \"Sarah Blue\", \"Hyderabad\", \"InvalidDate\", \"300.40\", \"No\")\n",
    "]\n",
    "\n",
    "# Define column names\n",
    "columns = [\"id\", \"name\", \"city\", \"date\", \"amount\", \"is_active\"]\n",
    "\n",
    "# Create DataFrame\n",
    "df = spark.createDataFrame(data, schema=columns)\n",
    "\n",
    "# Show the DataFrame\n",
    "df.show()"
   ],
   "id": "4fd8312528d784bb",
   "outputs": [
    {
     "name": "stdout",
     "output_type": "stream",
     "text": [
      "+---+------------+---------+-----------+------+---------+\n",
      "| id|        name|     city|       date|amount|is_active|\n",
      "+---+------------+---------+-----------+------+---------+\n",
      "|  1|    John Doe|Bangalore| 2023-01-15|152.75|     True|\n",
      "|  2|  Jane Smith|    Delhi| 2023-05-20| 89.50|    False|\n",
      "|  3|Robert Brown|   Mumbai|InvalidDate|200.00|     True|\n",
      "|  4| Linda White|  Kolkata| 2023-02-29|  NULL|      yes|\n",
      "|  5|  Mike Green|  Chennai| 2023-08-10|   NaN|        1|\n",
      "|  6|  Sarah Blue|Hyderabad|InvalidDate|300.40|       No|\n",
      "+---+------------+---------+-----------+------+---------+\n",
      "\n"
     ]
    }
   ],
   "execution_count": 3
  },
  {
   "metadata": {
    "ExecuteTime": {
     "end_time": "2025-03-28T03:22:20.864478Z",
     "start_time": "2025-03-28T03:22:20.851394Z"
    }
   },
   "cell_type": "code",
   "source": "df.printSchema()",
   "id": "847f474ceb7b1a6c",
   "outputs": [
    {
     "name": "stdout",
     "output_type": "stream",
     "text": [
      "root\n",
      " |-- id: long (nullable = true)\n",
      " |-- name: string (nullable = true)\n",
      " |-- city: string (nullable = true)\n",
      " |-- date: string (nullable = true)\n",
      " |-- amount: string (nullable = true)\n",
      " |-- is_active: string (nullable = true)\n",
      "\n"
     ]
    }
   ],
   "execution_count": 4
  },
  {
   "metadata": {},
   "cell_type": "markdown",
   "source": "# Handle Integer column",
   "id": "94fbf18535c25168"
  },
  {
   "metadata": {
    "ExecuteTime": {
     "end_time": "2025-03-28T03:23:46.228198Z",
     "start_time": "2025-03-28T03:23:46.171355Z"
    }
   },
   "cell_type": "code",
   "outputs": [
    {
     "data": {
      "text/plain": [
       "Column<'id'>"
      ]
     },
     "execution_count": 6,
     "metadata": {},
     "output_type": "execute_result"
    }
   ],
   "execution_count": 6,
   "source": "df.id",
   "id": "9406c0cd80f72ece"
  },
  {
   "metadata": {
    "ExecuteTime": {
     "end_time": "2025-03-28T03:23:49.923366Z",
     "start_time": "2025-03-28T03:23:49.910637Z"
    }
   },
   "cell_type": "code",
   "outputs": [
    {
     "data": {
      "text/plain": [
       "Column<'id'>"
      ]
     },
     "execution_count": 7,
     "metadata": {},
     "output_type": "execute_result"
    }
   ],
   "execution_count": 7,
   "source": "df['id']",
   "id": "110707743307e221"
  },
  {
   "metadata": {
    "ExecuteTime": {
     "end_time": "2025-03-28T03:24:09.858921Z",
     "start_time": "2025-03-28T03:24:01.648533Z"
    }
   },
   "cell_type": "code",
   "outputs": [
    {
     "name": "stdout",
     "output_type": "stream",
     "text": [
      "+---+-----------+---------+-----------+------+---------+\n",
      "| id|       name|     city|       date|amount|is_active|\n",
      "+---+-----------+---------+-----------+------+---------+\n",
      "|  4|Linda White|  Kolkata| 2023-02-29|  NULL|      yes|\n",
      "|  5| Mike Green|  Chennai| 2023-08-10|   NaN|        1|\n",
      "|  6| Sarah Blue|Hyderabad|InvalidDate|300.40|       No|\n",
      "+---+-----------+---------+-----------+------+---------+\n",
      "\n"
     ]
    }
   ],
   "execution_count": 8,
   "source": "df.filter(df.id > 3).show()",
   "id": "434a48b9490d862e"
  },
  {
   "metadata": {
    "ExecuteTime": {
     "end_time": "2025-03-28T03:29:31.673220Z",
     "start_time": "2025-03-28T03:29:23.929710Z"
    }
   },
   "cell_type": "code",
   "source": "df.withColumn('id_double', df.id * 2).show()",
   "id": "27bc08645f1ede40",
   "outputs": [
    {
     "name": "stdout",
     "output_type": "stream",
     "text": [
      "+---+------------+---------+-----------+------+---------+---------+\n",
      "| id|        name|     city|       date|amount|is_active|id_double|\n",
      "+---+------------+---------+-----------+------+---------+---------+\n",
      "|  1|    John Doe|Bangalore| 2023-01-15|152.75|     True|        2|\n",
      "|  2|  Jane Smith|    Delhi| 2023-05-20| 89.50|    False|        4|\n",
      "|  3|Robert Brown|   Mumbai|InvalidDate|200.00|     True|        6|\n",
      "|  4| Linda White|  Kolkata| 2023-02-29|  NULL|      yes|        8|\n",
      "|  5|  Mike Green|  Chennai| 2023-08-10|   NaN|        1|       10|\n",
      "|  6|  Sarah Blue|Hyderabad|InvalidDate|300.40|       No|       12|\n",
      "+---+------------+---------+-----------+------+---------+---------+\n",
      "\n"
     ]
    }
   ],
   "execution_count": 12
  },
  {
   "metadata": {
    "ExecuteTime": {
     "end_time": "2025-03-28T03:29:45.055306Z",
     "start_time": "2025-03-28T03:29:45.025316Z"
    }
   },
   "cell_type": "code",
   "source": "df = df.withColumn('id', df.id.cast(IntegerType()))",
   "id": "a7d931cac459d69d",
   "outputs": [],
   "execution_count": 13
  },
  {
   "metadata": {
    "ExecuteTime": {
     "end_time": "2025-03-28T03:29:48.578394Z",
     "start_time": "2025-03-28T03:29:48.573066Z"
    }
   },
   "cell_type": "code",
   "source": "df.printSchema()",
   "id": "ef2578af6e3a3190",
   "outputs": [
    {
     "name": "stdout",
     "output_type": "stream",
     "text": [
      "root\n",
      " |-- id: integer (nullable = true)\n",
      " |-- name: string (nullable = true)\n",
      " |-- city: string (nullable = true)\n",
      " |-- date: string (nullable = true)\n",
      " |-- amount: string (nullable = true)\n",
      " |-- is_active: string (nullable = true)\n",
      "\n"
     ]
    }
   ],
   "execution_count": 14
  },
  {
   "metadata": {},
   "cell_type": "markdown",
   "source": "# Handle String column",
   "id": "d51051915f1b2121"
  },
  {
   "metadata": {
    "ExecuteTime": {
     "end_time": "2025-03-28T03:31:19.815872Z",
     "start_time": "2025-03-28T03:31:11.996874Z"
    }
   },
   "cell_type": "code",
   "source": [
    "from pyspark.sql.functions import *\n",
    "\n",
    "df = df.withColumn('name_upper', upper(df.name))\n",
    "df.show()"
   ],
   "id": "dadb42142a2af5b3",
   "outputs": [
    {
     "name": "stdout",
     "output_type": "stream",
     "text": [
      "+---+------------+---------+-----------+------+---------+------------+\n",
      "| id|        name|     city|       date|amount|is_active|  name_upper|\n",
      "+---+------------+---------+-----------+------+---------+------------+\n",
      "|  1|    John Doe|Bangalore| 2023-01-15|152.75|     True|    JOHN DOE|\n",
      "|  2|  Jane Smith|    Delhi| 2023-05-20| 89.50|    False|  JANE SMITH|\n",
      "|  3|Robert Brown|   Mumbai|InvalidDate|200.00|     True|ROBERT BROWN|\n",
      "|  4| Linda White|  Kolkata| 2023-02-29|  NULL|      yes| LINDA WHITE|\n",
      "|  5|  Mike Green|  Chennai| 2023-08-10|   NaN|        1|  MIKE GREEN|\n",
      "|  6|  Sarah Blue|Hyderabad|InvalidDate|300.40|       No|  SARAH BLUE|\n",
      "+---+------------+---------+-----------+------+---------+------------+\n",
      "\n"
     ]
    }
   ],
   "execution_count": 15
  },
  {
   "metadata": {
    "ExecuteTime": {
     "end_time": "2025-03-28T03:31:55.358085Z",
     "start_time": "2025-03-28T03:31:47.429107Z"
    }
   },
   "cell_type": "code",
   "source": "df.filter(df.city.startswith('B')).show()",
   "id": "284e93ff2c829510",
   "outputs": [
    {
     "name": "stdout",
     "output_type": "stream",
     "text": [
      "+---+--------+---------+----------+------+---------+----------+\n",
      "| id|    name|     city|      date|amount|is_active|name_upper|\n",
      "+---+--------+---------+----------+------+---------+----------+\n",
      "|  1|John Doe|Bangalore|2023-01-15|152.75|     True|  JOHN DOE|\n",
      "+---+--------+---------+----------+------+---------+----------+\n",
      "\n"
     ]
    }
   ],
   "execution_count": 16
  },
  {
   "metadata": {},
   "cell_type": "markdown",
   "source": "# Handle Float column",
   "id": "4287a238ba6c8391"
  },
  {
   "metadata": {
    "ExecuteTime": {
     "end_time": "2025-03-28T03:35:07.307799Z",
     "start_time": "2025-03-28T03:35:07.274089Z"
    }
   },
   "cell_type": "code",
   "source": [
    "df = df.withColumn('amount', col('amount').cast('float'))\n",
    "df.printSchema()"
   ],
   "id": "d089e79361ede4f5",
   "outputs": [
    {
     "name": "stdout",
     "output_type": "stream",
     "text": [
      "root\n",
      " |-- id: integer (nullable = true)\n",
      " |-- name: string (nullable = true)\n",
      " |-- city: string (nullable = true)\n",
      " |-- date: string (nullable = true)\n",
      " |-- amount: float (nullable = true)\n",
      " |-- is_active: string (nullable = true)\n",
      " |-- name_upper: string (nullable = true)\n",
      "\n"
     ]
    }
   ],
   "execution_count": 17
  },
  {
   "metadata": {
    "ExecuteTime": {
     "end_time": "2025-03-28T03:40:19.281931Z",
     "start_time": "2025-03-28T03:40:11.893717Z"
    }
   },
   "cell_type": "code",
   "source": "df.show()",
   "id": "18acdfcd95a018b9",
   "outputs": [
    {
     "name": "stdout",
     "output_type": "stream",
     "text": [
      "+---+------------+---------+-----------+------+---------+------------+\n",
      "| id|        name|     city|       date|amount|is_active|  name_upper|\n",
      "+---+------------+---------+-----------+------+---------+------------+\n",
      "|  1|    John Doe|Bangalore| 2023-01-15|152.75|     True|    JOHN DOE|\n",
      "|  2|  Jane Smith|    Delhi| 2023-05-20|  89.5|    False|  JANE SMITH|\n",
      "|  3|Robert Brown|   Mumbai|InvalidDate| 200.0|     True|ROBERT BROWN|\n",
      "|  4| Linda White|  Kolkata| 2023-02-29|  NULL|      yes| LINDA WHITE|\n",
      "|  5|  Mike Green|  Chennai| 2023-08-10|   NaN|        1|  MIKE GREEN|\n",
      "|  6|  Sarah Blue|Hyderabad|InvalidDate| 300.4|       No|  SARAH BLUE|\n",
      "+---+------------+---------+-----------+------+---------+------------+\n",
      "\n"
     ]
    }
   ],
   "execution_count": 18
  },
  {
   "metadata": {
    "ExecuteTime": {
     "end_time": "2025-03-28T03:41:07.129923Z",
     "start_time": "2025-03-28T03:40:59.121414Z"
    }
   },
   "cell_type": "code",
   "source": [
    "df = df.fillna({'amount': 0.0})\n",
    "df.show()"
   ],
   "id": "cd821cb841bcc327",
   "outputs": [
    {
     "name": "stdout",
     "output_type": "stream",
     "text": [
      "+---+------------+---------+-----------+------+---------+------------+\n",
      "| id|        name|     city|       date|amount|is_active|  name_upper|\n",
      "+---+------------+---------+-----------+------+---------+------------+\n",
      "|  1|    John Doe|Bangalore| 2023-01-15|152.75|     True|    JOHN DOE|\n",
      "|  2|  Jane Smith|    Delhi| 2023-05-20|  89.5|    False|  JANE SMITH|\n",
      "|  3|Robert Brown|   Mumbai|InvalidDate| 200.0|     True|ROBERT BROWN|\n",
      "|  4| Linda White|  Kolkata| 2023-02-29|   0.0|      yes| LINDA WHITE|\n",
      "|  5|  Mike Green|  Chennai| 2023-08-10|   0.0|        1|  MIKE GREEN|\n",
      "|  6|  Sarah Blue|Hyderabad|InvalidDate| 300.4|       No|  SARAH BLUE|\n",
      "+---+------------+---------+-----------+------+---------+------------+\n",
      "\n"
     ]
    }
   ],
   "execution_count": 19
  }
 ],
 "metadata": {
  "kernelspec": {
   "display_name": "Python 3",
   "language": "python",
   "name": "python3"
  },
  "language_info": {
   "codemirror_mode": {
    "name": "ipython",
    "version": 2
   },
   "file_extension": ".py",
   "mimetype": "text/x-python",
   "name": "python",
   "nbconvert_exporter": "python",
   "pygments_lexer": "ipython2",
   "version": "2.7.6"
  }
 },
 "nbformat": 4,
 "nbformat_minor": 5
}
