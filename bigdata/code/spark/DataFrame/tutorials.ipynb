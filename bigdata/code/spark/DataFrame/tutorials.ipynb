{
 "cells": [
  {
   "cell_type": "code",
   "id": "initial_id",
   "metadata": {
    "collapsed": true,
    "ExecuteTime": {
     "end_time": "2025-03-28T02:32:44.477518Z",
     "start_time": "2025-03-28T02:32:43.373410Z"
    }
   },
   "source": [
    "from pyspark.sql import SparkSession\n",
    "\n",
    "spark = (SparkSession.builder.appName(\"test\")\n",
    "         .master(\"local[*]\")\n",
    "         .config(\"spark.executor.memory\", \"1g\")\n",
    "         .getOrCreate()\n",
    "         )"
   ],
   "outputs": [],
   "execution_count": 2
  },
  {
   "metadata": {
    "ExecuteTime": {
     "end_time": "2025-03-28T02:33:37.067993Z",
     "start_time": "2025-03-28T02:33:37.052382Z"
    }
   },
   "cell_type": "code",
   "source": [
    "data = [\n",
    "    (0, \"Customer_0\", \"Bangalore\", \"Karnataka\", \"India\", \"2023-11-11\", True),\n",
    "    (1, \"Customer_1\", \"Delhi\", \"Delhi\", \"India\", \"2023-08-26\", True),\n",
    "]\n",
    "\n",
    "columns = [\"customer_id\", \"name\", \"city\", \"state\", \"country\", \"registration_date\", \"is_active\"]"
   ],
   "id": "7a3296ea507e87e",
   "outputs": [],
   "execution_count": 3
  },
  {
   "metadata": {
    "ExecuteTime": {
     "end_time": "2025-03-28T02:33:50.284732Z",
     "start_time": "2025-03-28T02:33:48.659523Z"
    }
   },
   "cell_type": "code",
   "source": "df = spark.createDataFrame(data, columns)",
   "id": "844aec0667bbf047",
   "outputs": [],
   "execution_count": 4
  },
  {
   "metadata": {
    "ExecuteTime": {
     "end_time": "2025-03-28T02:34:08.439469Z",
     "start_time": "2025-03-28T02:33:58.059478Z"
    }
   },
   "cell_type": "code",
   "source": "df.show()",
   "id": "23026cfcff576535",
   "outputs": [
    {
     "name": "stdout",
     "output_type": "stream",
     "text": [
      "+-----------+----------+---------+---------+-------+-----------------+---------+\n",
      "|customer_id|      name|     city|    state|country|registration_date|is_active|\n",
      "+-----------+----------+---------+---------+-------+-----------------+---------+\n",
      "|          0|Customer_0|Bangalore|Karnataka|  India|       2023-11-11|     true|\n",
      "|          1|Customer_1|    Delhi|    Delhi|  India|       2023-08-26|     true|\n",
      "+-----------+----------+---------+---------+-------+-----------------+---------+\n",
      "\n"
     ]
    }
   ],
   "execution_count": 5
  },
  {
   "metadata": {
    "ExecuteTime": {
     "end_time": "2025-03-28T02:35:23.990444Z",
     "start_time": "2025-03-28T02:35:15.857801Z"
    }
   },
   "cell_type": "code",
   "source": "df.select('name').show()",
   "id": "e6e2a1dac0174ed",
   "outputs": [
    {
     "name": "stdout",
     "output_type": "stream",
     "text": [
      "+----------+\n",
      "|      name|\n",
      "+----------+\n",
      "|Customer_0|\n",
      "|Customer_1|\n",
      "+----------+\n",
      "\n"
     ]
    }
   ],
   "execution_count": 7
  },
  {
   "metadata": {
    "ExecuteTime": {
     "end_time": "2025-03-28T02:39:12.609665Z",
     "start_time": "2025-03-28T02:39:11.533242Z"
    }
   },
   "cell_type": "code",
   "source": [
    "df_2 = (spark.read.format('csv')\n",
    "        .option('header', 'true')\n",
    "        .option('inferSchema', 'true')\n",
    "        .load('../Data/customers.csv'))"
   ],
   "id": "6b68464a1574c48e",
   "outputs": [],
   "execution_count": 9
  },
  {
   "metadata": {
    "ExecuteTime": {
     "end_time": "2025-03-28T02:39:16.168811Z",
     "start_time": "2025-03-28T02:39:15.933145Z"
    }
   },
   "cell_type": "code",
   "source": "df_2.show()",
   "id": "5884ec0f1c9d4a7a",
   "outputs": [
    {
     "name": "stdout",
     "output_type": "stream",
     "text": [
      "+-----------+-----------+---------+-----------+-------+-----------------+---------+\n",
      "|customer_id|       name|     city|      state|country|registration_date|is_active|\n",
      "+-----------+-----------+---------+-----------+-------+-----------------+---------+\n",
      "|          0| Customer_0|     Pune|West Bengal|  India|       2023-10-10|     true|\n",
      "|          1| Customer_1|Bangalore|    Gujarat|  India|       2023-10-19|    false|\n",
      "|          2| Customer_2|Bangalore|  Karnataka|  India|       2023-02-10|     true|\n",
      "|          3| Customer_3|Bangalore|  Telangana|  India|       2023-03-24|     true|\n",
      "|          4| Customer_4|Hyderabad|  Telangana|  India|       2023-06-04|    false|\n",
      "|          5| Customer_5|Hyderabad|West Bengal|  India|       2023-07-26|     true|\n",
      "|          6| Customer_6|Hyderabad|  Karnataka|  India|       2023-08-07|    false|\n",
      "|          7| Customer_7|Bangalore|  Telangana|  India|       2023-08-25|     true|\n",
      "|          8| Customer_8|Bangalore|Maharashtra|  India|       2023-07-13|    false|\n",
      "|          9| Customer_9|Ahmedabad|      Delhi|  India|       2023-07-30|    false|\n",
      "|         10|Customer_10|  Chennai|    Gujarat|  India|       2023-01-14|    false|\n",
      "|         11|Customer_11|     Pune|West Bengal|  India|       2023-04-10|     true|\n",
      "|         12|Customer_12|    Delhi| Tamil Nadu|  India|       2023-06-20|     true|\n",
      "|         13|Customer_13|Ahmedabad|      Delhi|  India|       2023-11-09|     true|\n",
      "|         14|Customer_14|Ahmedabad|West Bengal|  India|       2023-02-18|     true|\n",
      "|         15|Customer_15|   Mumbai|  Telangana|  India|       2023-04-25|    false|\n",
      "|         16|Customer_16|    Delhi| Tamil Nadu|  India|       2023-04-25|    false|\n",
      "|         17|Customer_17|  Chennai|    Gujarat|  India|       2023-05-05|    false|\n",
      "|         18|Customer_18|Ahmedabad|    Gujarat|  India|       2023-08-06|     true|\n",
      "|         19|Customer_19|    Delhi|  Telangana|  India|       2023-04-27|     true|\n",
      "+-----------+-----------+---------+-----------+-------+-----------------+---------+\n",
      "only showing top 20 rows\n",
      "\n"
     ]
    }
   ],
   "execution_count": 10
  },
  {
   "metadata": {
    "ExecuteTime": {
     "end_time": "2025-03-28T02:40:47.270415Z",
     "start_time": "2025-03-28T02:40:47.257243Z"
    }
   },
   "cell_type": "code",
   "source": "df_2.printSchema()",
   "id": "45546cf80da6b8e9",
   "outputs": [
    {
     "name": "stdout",
     "output_type": "stream",
     "text": [
      "root\n",
      " |-- customer_id: integer (nullable = true)\n",
      " |-- name: string (nullable = true)\n",
      " |-- city: string (nullable = true)\n",
      " |-- state: string (nullable = true)\n",
      " |-- country: string (nullable = true)\n",
      " |-- registration_date: date (nullable = true)\n",
      " |-- is_active: boolean (nullable = true)\n",
      "\n"
     ]
    }
   ],
   "execution_count": 11
  },
  {
   "metadata": {
    "ExecuteTime": {
     "end_time": "2025-03-28T02:42:37.261172Z",
     "start_time": "2025-03-28T02:42:37.207400Z"
    }
   },
   "cell_type": "code",
   "source": "active_customers = df_2.filter('is_active == True')",
   "id": "721b18b5e3150de0",
   "outputs": [],
   "execution_count": 12
  },
  {
   "metadata": {
    "ExecuteTime": {
     "end_time": "2025-03-28T02:42:41.834574Z",
     "start_time": "2025-03-28T02:42:41.812518Z"
    }
   },
   "cell_type": "code",
   "source": "active_customers",
   "id": "8f146903855ed58b",
   "outputs": [
    {
     "data": {
      "text/plain": [
       "DataFrame[customer_id: int, name: string, city: string, state: string, country: string, registration_date: date, is_active: boolean]"
      ]
     },
     "execution_count": 13,
     "metadata": {},
     "output_type": "execute_result"
    }
   ],
   "execution_count": 13
  },
  {
   "metadata": {
    "ExecuteTime": {
     "end_time": "2025-03-28T02:42:56.131428Z",
     "start_time": "2025-03-28T02:42:55.932025Z"
    }
   },
   "cell_type": "code",
   "source": "active_customers.show()",
   "id": "3ab5c2799b0a5019",
   "outputs": [
    {
     "name": "stdout",
     "output_type": "stream",
     "text": [
      "+-----------+-----------+---------+-----------+-------+-----------------+---------+\n",
      "|customer_id|       name|     city|      state|country|registration_date|is_active|\n",
      "+-----------+-----------+---------+-----------+-------+-----------------+---------+\n",
      "|          0| Customer_0|     Pune|West Bengal|  India|       2023-10-10|     true|\n",
      "|          2| Customer_2|Bangalore|  Karnataka|  India|       2023-02-10|     true|\n",
      "|          3| Customer_3|Bangalore|  Telangana|  India|       2023-03-24|     true|\n",
      "|          5| Customer_5|Hyderabad|West Bengal|  India|       2023-07-26|     true|\n",
      "|          7| Customer_7|Bangalore|  Telangana|  India|       2023-08-25|     true|\n",
      "|         11|Customer_11|     Pune|West Bengal|  India|       2023-04-10|     true|\n",
      "|         12|Customer_12|    Delhi| Tamil Nadu|  India|       2023-06-20|     true|\n",
      "|         13|Customer_13|Ahmedabad|      Delhi|  India|       2023-11-09|     true|\n",
      "|         14|Customer_14|Ahmedabad|West Bengal|  India|       2023-02-18|     true|\n",
      "|         18|Customer_18|Ahmedabad|    Gujarat|  India|       2023-08-06|     true|\n",
      "|         19|Customer_19|    Delhi|  Telangana|  India|       2023-04-27|     true|\n",
      "|         21|Customer_21|    Delhi|      Delhi|  India|       2023-05-13|     true|\n",
      "|         23|Customer_23|Bangalore|  Telangana|  India|       2023-07-31|     true|\n",
      "|         25|Customer_25|    Delhi| Tamil Nadu|  India|       2023-11-28|     true|\n",
      "|         32|Customer_32|    Delhi|  Telangana|  India|       2023-09-21|     true|\n",
      "|         33|Customer_33|   Mumbai| Tamil Nadu|  India|       2023-06-13|     true|\n",
      "|         34|Customer_34|    Delhi|Maharashtra|  India|       2023-07-22|     true|\n",
      "|         35|Customer_35|Bangalore|    Gujarat|  India|       2023-04-27|     true|\n",
      "|         37|Customer_37|Hyderabad|Maharashtra|  India|       2023-04-01|     true|\n",
      "|         38|Customer_38|  Chennai|    Gujarat|  India|       2023-08-10|     true|\n",
      "+-----------+-----------+---------+-----------+-------+-----------------+---------+\n",
      "only showing top 20 rows\n",
      "\n"
     ]
    }
   ],
   "execution_count": 14
  },
  {
   "metadata": {
    "ExecuteTime": {
     "end_time": "2025-03-28T02:43:51.323426Z",
     "start_time": "2025-03-28T02:43:51.288410Z"
    }
   },
   "cell_type": "code",
   "source": "selected_columns = df_2.select('customer_id', 'name', 'city')",
   "id": "2bf1b56c218007ad",
   "outputs": [],
   "execution_count": 15
  },
  {
   "metadata": {
    "ExecuteTime": {
     "end_time": "2025-03-28T02:43:55.009337Z",
     "start_time": "2025-03-28T02:43:54.996039Z"
    }
   },
   "cell_type": "code",
   "source": "selected_columns",
   "id": "3269db9cca16fd0b",
   "outputs": [
    {
     "data": {
      "text/plain": [
       "DataFrame[customer_id: int, name: string, city: string]"
      ]
     },
     "execution_count": 16,
     "metadata": {},
     "output_type": "execute_result"
    }
   ],
   "execution_count": 16
  },
  {
   "metadata": {
    "ExecuteTime": {
     "end_time": "2025-03-28T02:43:58.403135Z",
     "start_time": "2025-03-28T02:43:58.283171Z"
    }
   },
   "cell_type": "code",
   "source": "selected_columns.show()",
   "id": "c6e406e8f386d1e",
   "outputs": [
    {
     "name": "stdout",
     "output_type": "stream",
     "text": [
      "+-----------+-----------+---------+\n",
      "|customer_id|       name|     city|\n",
      "+-----------+-----------+---------+\n",
      "|          0| Customer_0|     Pune|\n",
      "|          1| Customer_1|Bangalore|\n",
      "|          2| Customer_2|Bangalore|\n",
      "|          3| Customer_3|Bangalore|\n",
      "|          4| Customer_4|Hyderabad|\n",
      "|          5| Customer_5|Hyderabad|\n",
      "|          6| Customer_6|Hyderabad|\n",
      "|          7| Customer_7|Bangalore|\n",
      "|          8| Customer_8|Bangalore|\n",
      "|          9| Customer_9|Ahmedabad|\n",
      "|         10|Customer_10|  Chennai|\n",
      "|         11|Customer_11|     Pune|\n",
      "|         12|Customer_12|    Delhi|\n",
      "|         13|Customer_13|Ahmedabad|\n",
      "|         14|Customer_14|Ahmedabad|\n",
      "|         15|Customer_15|   Mumbai|\n",
      "|         16|Customer_16|    Delhi|\n",
      "|         17|Customer_17|  Chennai|\n",
      "|         18|Customer_18|Ahmedabad|\n",
      "|         19|Customer_19|    Delhi|\n",
      "+-----------+-----------+---------+\n",
      "only showing top 20 rows\n",
      "\n"
     ]
    }
   ],
   "execution_count": 17
  }
 ],
 "metadata": {
  "kernelspec": {
   "display_name": "Python 3",
   "language": "python",
   "name": "python3"
  },
  "language_info": {
   "codemirror_mode": {
    "name": "ipython",
    "version": 2
   },
   "file_extension": ".py",
   "mimetype": "text/x-python",
   "name": "python",
   "nbconvert_exporter": "python",
   "pygments_lexer": "ipython2",
   "version": "2.7.6"
  }
 },
 "nbformat": 4,
 "nbformat_minor": 5
}
