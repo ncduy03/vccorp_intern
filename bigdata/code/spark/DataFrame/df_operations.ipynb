{
 "cells": [
  {
   "cell_type": "code",
   "id": "initial_id",
   "metadata": {
    "collapsed": true,
    "ExecuteTime": {
     "end_time": "2025-03-28T03:02:32.309838Z",
     "start_time": "2025-03-28T03:02:32.278638Z"
    }
   },
   "source": [
    "from pyspark.sql import SparkSession\n",
    "from pyspark.sql.types import *\n",
    "spark = (SparkSession.builder.appName(\"df_operations\")\n",
    "         .master(\"local[*]\")\n",
    "         .config(\"spark.executor.memory\", \"1g\")\n",
    "         .getOrCreate()\n",
    "         )"
   ],
   "outputs": [],
   "execution_count": 3
  },
  {
   "metadata": {
    "ExecuteTime": {
     "end_time": "2025-03-28T03:03:57.703881Z",
     "start_time": "2025-03-28T03:03:45.551391Z"
    }
   },
   "cell_type": "code",
   "source": [
    "# Sample Data\n",
    "data = [\n",
    "    (1, \"Alice\", 25),\n",
    "    (2, \"Bob\", 30),\n",
    "    (3, \"Catherine\", 35)\n",
    "]\n",
    "\n",
    "# Define Schema\n",
    "schema = StructType([\n",
    "    StructField(\"id\", IntegerType(), True),\n",
    "    StructField(\"name\", StringType(), True),\n",
    "    StructField(\"age\", IntegerType(), True)\n",
    "])\n",
    "\n",
    "# Create DataFrame\n",
    "df = spark.createDataFrame(data, schema)\n",
    "\n",
    "# Show Data\n",
    "df.show()"
   ],
   "id": "698e621cce30e689",
   "outputs": [
    {
     "name": "stdout",
     "output_type": "stream",
     "text": [
      "+---+---------+---+\n",
      "| id|     name|age|\n",
      "+---+---------+---+\n",
      "|  1|    Alice| 25|\n",
      "|  2|      Bob| 30|\n",
      "|  3|Catherine| 35|\n",
      "+---+---------+---+\n",
      "\n"
     ]
    }
   ],
   "execution_count": 4
  },
  {
   "metadata": {
    "ExecuteTime": {
     "end_time": "2025-03-28T03:04:05.600844Z",
     "start_time": "2025-03-28T03:03:57.730307Z"
    }
   },
   "cell_type": "code",
   "source": "df.show(2)",
   "id": "b5be7c3afea716fb",
   "outputs": [
    {
     "name": "stdout",
     "output_type": "stream",
     "text": [
      "+---+-----+---+\n",
      "| id| name|age|\n",
      "+---+-----+---+\n",
      "|  1|Alice| 25|\n",
      "|  2|  Bob| 30|\n",
      "+---+-----+---+\n",
      "only showing top 2 rows\n",
      "\n"
     ]
    }
   ],
   "execution_count": 5
  },
  {
   "metadata": {
    "ExecuteTime": {
     "end_time": "2025-03-28T03:04:10.537292Z",
     "start_time": "2025-03-28T03:04:10.523988Z"
    }
   },
   "cell_type": "code",
   "source": "df.printSchema()",
   "id": "1c7f9589fd9768fe",
   "outputs": [
    {
     "name": "stdout",
     "output_type": "stream",
     "text": [
      "root\n",
      " |-- id: integer (nullable = true)\n",
      " |-- name: string (nullable = true)\n",
      " |-- age: integer (nullable = true)\n",
      "\n"
     ]
    }
   ],
   "execution_count": 6
  },
  {
   "metadata": {
    "ExecuteTime": {
     "end_time": "2025-03-28T03:04:28.535280Z",
     "start_time": "2025-03-28T03:04:28.522942Z"
    }
   },
   "cell_type": "code",
   "source": "df.columns",
   "id": "da39dbf225f47100",
   "outputs": [
    {
     "data": {
      "text/plain": [
       "['id', 'name', 'age']"
      ]
     },
     "execution_count": 7,
     "metadata": {},
     "output_type": "execute_result"
    }
   ],
   "execution_count": 7
  },
  {
   "metadata": {
    "ExecuteTime": {
     "end_time": "2025-03-28T03:04:52.386261Z",
     "start_time": "2025-03-28T03:04:44.128743Z"
    }
   },
   "cell_type": "code",
   "source": "df.describe().show()",
   "id": "82bdf1b181135471",
   "outputs": [
    {
     "name": "stdout",
     "output_type": "stream",
     "text": [
      "+-------+---+---------+----+\n",
      "|summary| id|     name| age|\n",
      "+-------+---+---------+----+\n",
      "|  count|  3|        3|   3|\n",
      "|   mean|2.0|     NULL|30.0|\n",
      "| stddev|1.0|     NULL| 5.0|\n",
      "|    min|  1|    Alice|  25|\n",
      "|    max|  3|Catherine|  35|\n",
      "+-------+---+---------+----+\n",
      "\n"
     ]
    }
   ],
   "execution_count": 9
  },
  {
   "metadata": {},
   "cell_type": "markdown",
   "source": "# Select and Filtering Data",
   "id": "b331a180cb74c064"
  },
  {
   "metadata": {
    "ExecuteTime": {
     "end_time": "2025-03-28T03:05:52.003449Z",
     "start_time": "2025-03-28T03:05:44.258453Z"
    }
   },
   "cell_type": "code",
   "source": "df.select('name', 'age').show()",
   "id": "619208da22b7cb13",
   "outputs": [
    {
     "name": "stdout",
     "output_type": "stream",
     "text": [
      "+---------+---+\n",
      "|     name|age|\n",
      "+---------+---+\n",
      "|    Alice| 25|\n",
      "|      Bob| 30|\n",
      "|Catherine| 35|\n",
      "+---------+---+\n",
      "\n"
     ]
    }
   ],
   "execution_count": 10
  },
  {
   "metadata": {
    "ExecuteTime": {
     "end_time": "2025-03-28T03:06:17.346428Z",
     "start_time": "2025-03-28T03:06:09.094987Z"
    }
   },
   "cell_type": "code",
   "source": "df.filter(df.age > 25).show()",
   "id": "46c685ba4271290e",
   "outputs": [
    {
     "name": "stdout",
     "output_type": "stream",
     "text": [
      "+---+---------+---+\n",
      "| id|     name|age|\n",
      "+---+---------+---+\n",
      "|  2|      Bob| 30|\n",
      "|  3|Catherine| 35|\n",
      "+---+---------+---+\n",
      "\n"
     ]
    }
   ],
   "execution_count": 11
  },
  {
   "metadata": {
    "ExecuteTime": {
     "end_time": "2025-03-28T03:06:35.169295Z",
     "start_time": "2025-03-28T03:06:27.245348Z"
    }
   },
   "cell_type": "code",
   "source": "df.where(df.name == 'Alice').show()",
   "id": "3463cce988cfa214",
   "outputs": [
    {
     "name": "stdout",
     "output_type": "stream",
     "text": [
      "+---+-----+---+\n",
      "| id| name|age|\n",
      "+---+-----+---+\n",
      "|  1|Alice| 25|\n",
      "+---+-----+---+\n",
      "\n"
     ]
    }
   ],
   "execution_count": 12
  },
  {
   "metadata": {
    "ExecuteTime": {
     "end_time": "2025-03-28T03:07:44.079461Z",
     "start_time": "2025-03-28T03:07:35.869002Z"
    }
   },
   "cell_type": "code",
   "source": "df.distinct().show()",
   "id": "93ff032ad685470b",
   "outputs": [
    {
     "name": "stdout",
     "output_type": "stream",
     "text": [
      "+---+---------+---+\n",
      "| id|     name|age|\n",
      "+---+---------+---+\n",
      "|  1|    Alice| 25|\n",
      "|  2|      Bob| 30|\n",
      "|  3|Catherine| 35|\n",
      "+---+---------+---+\n",
      "\n"
     ]
    }
   ],
   "execution_count": 14
  },
  {
   "metadata": {},
   "cell_type": "markdown",
   "source": "# Sorting and Ordering",
   "id": "c0563ff744a38919"
  },
  {
   "metadata": {
    "ExecuteTime": {
     "end_time": "2025-03-28T03:08:01.047191Z",
     "start_time": "2025-03-28T03:07:53.591998Z"
    }
   },
   "cell_type": "code",
   "source": "df.orderBy('age').show()",
   "id": "1e38e35245f49d62",
   "outputs": [
    {
     "name": "stdout",
     "output_type": "stream",
     "text": [
      "+---+---------+---+\n",
      "| id|     name|age|\n",
      "+---+---------+---+\n",
      "|  1|    Alice| 25|\n",
      "|  2|      Bob| 30|\n",
      "|  3|Catherine| 35|\n",
      "+---+---------+---+\n",
      "\n"
     ]
    }
   ],
   "execution_count": 15
  },
  {
   "metadata": {
    "ExecuteTime": {
     "end_time": "2025-03-28T03:08:38.216644Z",
     "start_time": "2025-03-28T03:08:30.774711Z"
    }
   },
   "cell_type": "code",
   "source": "df.orderBy(df.age.desc()).show()",
   "id": "3e3b50ee7afe0e1f",
   "outputs": [
    {
     "name": "stdout",
     "output_type": "stream",
     "text": [
      "+---+---------+---+\n",
      "| id|     name|age|\n",
      "+---+---------+---+\n",
      "|  3|Catherine| 35|\n",
      "|  2|      Bob| 30|\n",
      "|  1|    Alice| 25|\n",
      "+---+---------+---+\n",
      "\n"
     ]
    }
   ],
   "execution_count": 16
  },
  {
   "metadata": {},
   "cell_type": "markdown",
   "source": "# Adding and Dropping Columns",
   "id": "e0c3177075e34f90"
  },
  {
   "metadata": {
    "ExecuteTime": {
     "end_time": "2025-03-28T03:10:32.087241Z",
     "start_time": "2025-03-28T03:10:23.040407Z"
    }
   },
   "cell_type": "code",
   "source": [
    "df = df.withColumn('new_age', df.age + 10)\n",
    "df.show()"
   ],
   "id": "84b2b237bb0561a9",
   "outputs": [
    {
     "name": "stdout",
     "output_type": "stream",
     "text": [
      "+---+---------+---+-------+\n",
      "| id|     name|age|new_age|\n",
      "+---+---------+---+-------+\n",
      "|  1|    Alice| 25|     35|\n",
      "|  2|      Bob| 30|     40|\n",
      "|  3|Catherine| 35|     45|\n",
      "+---+---------+---+-------+\n",
      "\n"
     ]
    }
   ],
   "execution_count": 19
  },
  {
   "metadata": {
    "ExecuteTime": {
     "end_time": "2025-03-28T03:10:50.738858Z",
     "start_time": "2025-03-28T03:10:43.517780Z"
    }
   },
   "cell_type": "code",
   "source": [
    "df = df.drop('new_age')\n",
    "df.show()"
   ],
   "id": "f42444f9e10f65df",
   "outputs": [
    {
     "name": "stdout",
     "output_type": "stream",
     "text": [
      "+---+---------+---+\n",
      "| id|     name|age|\n",
      "+---+---------+---+\n",
      "|  1|    Alice| 25|\n",
      "|  2|      Bob| 30|\n",
      "|  3|Catherine| 35|\n",
      "+---+---------+---+\n",
      "\n"
     ]
    }
   ],
   "execution_count": 20
  },
  {
   "metadata": {},
   "cell_type": "markdown",
   "source": "# Aggregation and Grouping",
   "id": "929c9da688b39bc4"
  },
  {
   "metadata": {
    "ExecuteTime": {
     "end_time": "2025-03-28T03:11:27.482591Z",
     "start_time": "2025-03-28T03:11:19.429207Z"
    }
   },
   "cell_type": "code",
   "source": "df.groupBy('name').count().show()",
   "id": "a8558197b4ff51af",
   "outputs": [
    {
     "name": "stdout",
     "output_type": "stream",
     "text": [
      "+---------+-----+\n",
      "|     name|count|\n",
      "+---------+-----+\n",
      "|    Alice|    1|\n",
      "|      Bob|    1|\n",
      "|Catherine|    1|\n",
      "+---------+-----+\n",
      "\n"
     ]
    }
   ],
   "execution_count": 21
  },
  {
   "metadata": {
    "ExecuteTime": {
     "end_time": "2025-03-28T03:12:00.872285Z",
     "start_time": "2025-03-28T03:11:53.156208Z"
    }
   },
   "cell_type": "code",
   "source": "df.agg({'age':'avg'}).show()",
   "id": "5f0de20e79123c49",
   "outputs": [
    {
     "name": "stdout",
     "output_type": "stream",
     "text": [
      "+--------+\n",
      "|avg(age)|\n",
      "+--------+\n",
      "|    30.0|\n",
      "+--------+\n",
      "\n"
     ]
    }
   ],
   "execution_count": 22
  },
  {
   "metadata": {},
   "cell_type": "markdown",
   "source": "# Joins",
   "id": "5e85ac9e8302fa5b"
  },
  {
   "metadata": {
    "ExecuteTime": {
     "end_time": "2025-03-28T03:14:17.985923Z",
     "start_time": "2025-03-28T03:14:17.972711Z"
    }
   },
   "cell_type": "code",
   "source": [
    "data2 = [\n",
    "    (1, 'vietnam'),\n",
    "    (2, 'uk'),\n",
    "    (3, 'usa')\n",
    "]\n",
    "\n",
    "schema2 = StructType([\n",
    "    StructField(\"id\", IntegerType(), True),\n",
    "    StructField(\"country\", StringType(), True)\n",
    "])"
   ],
   "id": "fcd0204b1792fa72",
   "outputs": [],
   "execution_count": 24
  },
  {
   "metadata": {
    "ExecuteTime": {
     "end_time": "2025-03-28T03:14:24.507933Z",
     "start_time": "2025-03-28T03:14:24.458330Z"
    }
   },
   "cell_type": "code",
   "source": "df2 = spark.createDataFrame(data2, schema2)",
   "id": "20d271a64e9b4f13",
   "outputs": [],
   "execution_count": 25
  },
  {
   "metadata": {
    "ExecuteTime": {
     "end_time": "2025-03-28T03:14:36.394609Z",
     "start_time": "2025-03-28T03:14:28.435199Z"
    }
   },
   "cell_type": "code",
   "source": "df2.show()",
   "id": "18d77ed571b49f6f",
   "outputs": [
    {
     "name": "stdout",
     "output_type": "stream",
     "text": [
      "+---+-------+\n",
      "| id|country|\n",
      "+---+-------+\n",
      "|  1|vietnam|\n",
      "|  2|     uk|\n",
      "|  3|    usa|\n",
      "+---+-------+\n",
      "\n"
     ]
    }
   ],
   "execution_count": 26
  },
  {
   "metadata": {
    "ExecuteTime": {
     "end_time": "2025-03-28T03:14:44.951355Z",
     "start_time": "2025-03-28T03:14:36.798723Z"
    }
   },
   "cell_type": "code",
   "source": "df.show()",
   "id": "bda92465ff5d4a2",
   "outputs": [
    {
     "name": "stdout",
     "output_type": "stream",
     "text": [
      "+---+---------+---+\n",
      "| id|     name|age|\n",
      "+---+---------+---+\n",
      "|  1|    Alice| 25|\n",
      "|  2|      Bob| 30|\n",
      "|  3|Catherine| 35|\n",
      "+---+---------+---+\n",
      "\n"
     ]
    }
   ],
   "execution_count": 27
  },
  {
   "metadata": {
    "ExecuteTime": {
     "end_time": "2025-03-28T03:15:57.821276Z",
     "start_time": "2025-03-28T03:15:42.418295Z"
    }
   },
   "cell_type": "code",
   "source": [
    "final_df = df.join(df2, 'id')\n",
    "final_df.show()"
   ],
   "id": "ccfa05209f8d03c1",
   "outputs": [
    {
     "name": "stdout",
     "output_type": "stream",
     "text": [
      "+---+---------+---+-------+\n",
      "| id|     name|age|country|\n",
      "+---+---------+---+-------+\n",
      "|  1|    Alice| 25|vietnam|\n",
      "|  2|      Bob| 30|     uk|\n",
      "|  3|Catherine| 35|    usa|\n",
      "+---+---------+---+-------+\n",
      "\n"
     ]
    }
   ],
   "execution_count": 29
  },
  {
   "metadata": {},
   "cell_type": "code",
   "outputs": [],
   "execution_count": null,
   "source": "",
   "id": "2336faecf93b0d4e"
  }
 ],
 "metadata": {
  "kernelspec": {
   "display_name": "Python 3",
   "language": "python",
   "name": "python3"
  },
  "language_info": {
   "codemirror_mode": {
    "name": "ipython",
    "version": 2
   },
   "file_extension": ".py",
   "mimetype": "text/x-python",
   "name": "python",
   "nbconvert_exporter": "python",
   "pygments_lexer": "ipython2",
   "version": "2.7.6"
  }
 },
 "nbformat": 4,
 "nbformat_minor": 5
}
