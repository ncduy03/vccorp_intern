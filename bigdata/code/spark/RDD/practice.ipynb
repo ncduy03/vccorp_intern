{
 "cells": [
  {
   "cell_type": "code",
   "id": "initial_id",
   "metadata": {
    "collapsed": true,
    "ExecuteTime": {
     "end_time": "2025-03-28T02:22:36.053770Z",
     "start_time": "2025-03-28T02:22:34.983117Z"
    }
   },
   "source": [
    "from pyspark.sql import SparkSession\n",
    "\n",
    "spark = (SparkSession.builder.appName(\"customer_data\")\n",
    "         .master(\"local[*]\")\n",
    "         .config(\"spark.executor.memory\", \"1g\")\n",
    "         .getOrCreate()\n",
    "         )"
   ],
   "outputs": [],
   "execution_count": 12
  },
  {
   "metadata": {
    "ExecuteTime": {
     "end_time": "2025-03-28T02:22:36.069415Z",
     "start_time": "2025-03-28T02:22:36.053770Z"
    }
   },
   "cell_type": "code",
   "source": "sc = spark.sparkContext",
   "id": "8fb871b89b14cfa1",
   "outputs": [],
   "execution_count": 13
  },
  {
   "metadata": {
    "ExecuteTime": {
     "end_time": "2025-03-28T02:22:36.100762Z",
     "start_time": "2025-03-28T02:22:36.085071Z"
    }
   },
   "cell_type": "code",
   "source": "input_path = \"../Data/customers.csv\"",
   "id": "a1d1dd1d501fc9bd",
   "outputs": [],
   "execution_count": 14
  },
  {
   "metadata": {
    "ExecuteTime": {
     "end_time": "2025-03-28T02:22:36.157930Z",
     "start_time": "2025-03-28T02:22:36.116420Z"
    }
   },
   "cell_type": "code",
   "source": "rdd = sc.textFile(input_path)",
   "id": "2cdff0c086bd6f80",
   "outputs": [],
   "execution_count": 15
  },
  {
   "metadata": {
    "ExecuteTime": {
     "end_time": "2025-03-28T02:22:36.872046Z",
     "start_time": "2025-03-28T02:22:36.173574Z"
    }
   },
   "cell_type": "code",
   "source": "header = rdd.first()",
   "id": "13717f0967767887",
   "outputs": [],
   "execution_count": 16
  },
  {
   "metadata": {
    "ExecuteTime": {
     "end_time": "2025-03-28T02:22:36.910147Z",
     "start_time": "2025-03-28T02:22:36.894107Z"
    }
   },
   "cell_type": "code",
   "source": "rdd = rdd.filter(lambda row: row != header)",
   "id": "629fb36f6290942a",
   "outputs": [],
   "execution_count": 17
  },
  {
   "metadata": {
    "ExecuteTime": {
     "end_time": "2025-03-28T02:22:36.941856Z",
     "start_time": "2025-03-28T02:22:36.926198Z"
    }
   },
   "cell_type": "code",
   "source": "rdd = rdd.map(lambda row: row.split(\",\"))",
   "id": "7c86cdafb2b71e20",
   "outputs": [],
   "execution_count": 18
  },
  {
   "metadata": {
    "ExecuteTime": {
     "end_time": "2025-03-28T02:22:37.661496Z",
     "start_time": "2025-03-28T02:22:36.957459Z"
    }
   },
   "cell_type": "code",
   "source": "rdd.first()",
   "id": "61d071991252ceeb",
   "outputs": [
    {
     "data": {
      "text/plain": [
       "['0', 'Customer_0', 'Pune', 'West Bengal', 'India', '2023-10-10', 'True']"
      ]
     },
     "execution_count": 19,
     "metadata": {},
     "output_type": "execute_result"
    }
   ],
   "execution_count": 19
  },
  {
   "metadata": {
    "ExecuteTime": {
     "end_time": "2025-03-28T02:23:08.645Z",
     "start_time": "2025-03-28T02:23:08.617218Z"
    }
   },
   "cell_type": "code",
   "source": "reduced_by_rdd = rdd.map(lambda row: (row[2], 1)).reduceByKey(lambda x, y: x + y)",
   "id": "37b6e0f7310aadf5",
   "outputs": [],
   "execution_count": 22
  },
  {
   "metadata": {
    "ExecuteTime": {
     "end_time": "2025-03-28T02:23:14.103781Z",
     "start_time": "2025-03-28T02:23:10.926618Z"
    }
   },
   "cell_type": "code",
   "source": "reduced_by_rdd.collect()",
   "id": "c6f0e7026a69469e",
   "outputs": [
    {
     "data": {
      "text/plain": [
       "[('Chennai', 21046),\n",
       " ('Mumbai', 21041),\n",
       " ('Pune', 21481),\n",
       " ('Bangalore', 21272),\n",
       " ('Hyderabad', 21174),\n",
       " ('Ahmedabad', 21272),\n",
       " ('Delhi', 21123),\n",
       " ('Kolkata', 21264)]"
      ]
     },
     "execution_count": 23,
     "metadata": {},
     "output_type": "execute_result"
    }
   ],
   "execution_count": 23
  },
  {
   "metadata": {
    "ExecuteTime": {
     "end_time": "2025-03-28T02:24:10.458241Z",
     "start_time": "2025-03-28T02:24:10.430663Z"
    }
   },
   "cell_type": "code",
   "source": "grouped_by_rdd = rdd.map(lambda row: (row[2], 1)).groupByKey()",
   "id": "a8088416018b3621",
   "outputs": [],
   "execution_count": 25
  },
  {
   "metadata": {
    "ExecuteTime": {
     "end_time": "2025-03-28T02:24:19.307384Z",
     "start_time": "2025-03-28T02:24:16.255281Z"
    }
   },
   "cell_type": "code",
   "source": "grouped_by_rdd.collect()",
   "id": "bd7daf30c6655c02",
   "outputs": [
    {
     "data": {
      "text/plain": [
       "[('Chennai', <pyspark.resultiterable.ResultIterable at 0x1b4b86006d0>),\n",
       " ('Mumbai', <pyspark.resultiterable.ResultIterable at 0x1b4b8615000>),\n",
       " ('Pune', <pyspark.resultiterable.ResultIterable at 0x1b4b8617790>),\n",
       " ('Bangalore', <pyspark.resultiterable.ResultIterable at 0x1b4b6b44e50>),\n",
       " ('Hyderabad', <pyspark.resultiterable.ResultIterable at 0x1b4b6b444f0>),\n",
       " ('Ahmedabad', <pyspark.resultiterable.ResultIterable at 0x1b4b6b19cc0>),\n",
       " ('Delhi', <pyspark.resultiterable.ResultIterable at 0x1b4b6b1ae60>),\n",
       " ('Kolkata', <pyspark.resultiterable.ResultIterable at 0x1b4b6b1a4d0>)]"
      ]
     },
     "execution_count": 26,
     "metadata": {},
     "output_type": "execute_result"
    }
   ],
   "execution_count": 26
  },
  {
   "metadata": {
    "ExecuteTime": {
     "end_time": "2025-03-28T02:26:36.218287Z",
     "start_time": "2025-03-28T02:26:36.213434Z"
    }
   },
   "cell_type": "code",
   "source": "grouped_by_result = grouped_by_rdd.map(lambda row: (row[0], len(row[1])))",
   "id": "a8b8393403bc10e",
   "outputs": [],
   "execution_count": 27
  },
  {
   "metadata": {
    "ExecuteTime": {
     "end_time": "2025-03-28T02:26:41.334076Z",
     "start_time": "2025-03-28T02:26:40.007043Z"
    }
   },
   "cell_type": "code",
   "source": "grouped_by_result.collect()",
   "id": "b39b0c39afe66215",
   "outputs": [
    {
     "data": {
      "text/plain": [
       "[('Chennai', 21046),\n",
       " ('Mumbai', 21041),\n",
       " ('Pune', 21481),\n",
       " ('Bangalore', 21272),\n",
       " ('Hyderabad', 21174),\n",
       " ('Ahmedabad', 21272),\n",
       " ('Delhi', 21123),\n",
       " ('Kolkata', 21264)]"
      ]
     },
     "execution_count": 28,
     "metadata": {},
     "output_type": "execute_result"
    }
   ],
   "execution_count": 28
  },
  {
   "metadata": {},
   "cell_type": "code",
   "outputs": [],
   "execution_count": null,
   "source": "",
   "id": "89485c8c956178e5"
  }
 ],
 "metadata": {
  "kernelspec": {
   "display_name": "Python 3",
   "language": "python",
   "name": "python3"
  },
  "language_info": {
   "codemirror_mode": {
    "name": "ipython",
    "version": 2
   },
   "file_extension": ".py",
   "mimetype": "text/x-python",
   "name": "python",
   "nbconvert_exporter": "python",
   "pygments_lexer": "ipython2",
   "version": "2.7.6"
  }
 },
 "nbformat": 4,
 "nbformat_minor": 5
}
