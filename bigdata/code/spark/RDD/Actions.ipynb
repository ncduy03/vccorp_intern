{
 "cells": [
  {
   "cell_type": "code",
   "id": "initial_id",
   "metadata": {
    "collapsed": true,
    "ExecuteTime": {
     "end_time": "2025-03-27T04:41:50.327591Z",
     "start_time": "2025-03-27T04:41:50.305753Z"
    }
   },
   "source": [
    "from pyspark.sql import SparkSession\n",
    "\n",
    "spark = (SparkSession.builder.appName(\"Actions\")\n",
    "         .master(\"local[*]\")\n",
    "         .config(\"spark.executor.memory\", \"1g\")\n",
    "         .getOrCreate()\n",
    "         )\n",
    "\n",
    "sc = spark.sparkContext"
   ],
   "outputs": [],
   "execution_count": 41
  },
  {
   "metadata": {},
   "cell_type": "markdown",
   "source": "# 1. Collect & Retrieving Data",
   "id": "2b9a605a7b2877bc"
  },
  {
   "metadata": {},
   "cell_type": "markdown",
   "source": "- collect(): Returns all elements",
   "id": "ad6305ec8e50617a"
  },
  {
   "metadata": {
    "ExecuteTime": {
     "end_time": "2025-03-27T04:42:03.495949Z",
     "start_time": "2025-03-27T04:42:03.417408Z"
    }
   },
   "cell_type": "code",
   "source": [
    "rdd = sc.parallelize([1, 2, 3])\n",
    "print(rdd.collect())  # [1, 2, 3]"
   ],
   "id": "328f48b7fd37479c",
   "outputs": [
    {
     "name": "stdout",
     "output_type": "stream",
     "text": [
      "[1, 2, 3]\n"
     ]
    }
   ],
   "execution_count": 42
  },
  {
   "metadata": {},
   "cell_type": "markdown",
   "source": "- take(n): Returns the first n elements",
   "id": "b4223c35037b342c"
  },
  {
   "metadata": {
    "ExecuteTime": {
     "end_time": "2025-03-27T04:43:01.371380Z",
     "start_time": "2025-03-27T04:42:53.689212Z"
    }
   },
   "cell_type": "code",
   "source": [
    "rdd = sc.parallelize([10, 20, 30, 40])\n",
    "print(rdd.take(2))  # [10, 20]"
   ],
   "id": "947e3bc4e4386c4b",
   "outputs": [
    {
     "name": "stdout",
     "output_type": "stream",
     "text": [
      "[10, 20]\n"
     ]
    }
   ],
   "execution_count": 46
  },
  {
   "metadata": {},
   "cell_type": "markdown",
   "source": "- first(): Returns the first element",
   "id": "3cdd47f9a70ea520"
  },
  {
   "metadata": {
    "ExecuteTime": {
     "end_time": "2025-03-27T04:42:45.262704Z",
     "start_time": "2025-03-27T04:42:41.944683Z"
    }
   },
   "cell_type": "code",
   "source": [
    "rdd = sc.parallelize([10, 20, 30])\n",
    "print(rdd.first())  # 10"
   ],
   "id": "5d1aef97adb62fec",
   "outputs": [
    {
     "name": "stdout",
     "output_type": "stream",
     "text": [
      "10\n"
     ]
    }
   ],
   "execution_count": 45
  },
  {
   "metadata": {},
   "cell_type": "markdown",
   "source": "# 2. Counting & Agrregation",
   "id": "26f674fd3148255a"
  },
  {
   "metadata": {},
   "cell_type": "markdown",
   "source": "- count(): Returns the number of elements",
   "id": "9fd5f2bd6c41133f"
  },
  {
   "metadata": {
    "ExecuteTime": {
     "end_time": "2025-03-27T04:42:35.439374Z",
     "start_time": "2025-03-27T04:42:27.790311Z"
    }
   },
   "cell_type": "code",
   "source": [
    "rdd = sc.parallelize([1, 2, 3, 4, 2])\n",
    "print(rdd.count())  # 5"
   ],
   "id": "763ad3b0fcb7358e",
   "outputs": [
    {
     "name": "stdout",
     "output_type": "stream",
     "text": [
      "5\n"
     ]
    }
   ],
   "execution_count": 44
  },
  {
   "metadata": {},
   "cell_type": "markdown",
   "source": "- countByKey(): Returns a dictionary of key frequencies",
   "id": "de7231c55f8c7fe3"
  },
  {
   "metadata": {
    "ExecuteTime": {
     "end_time": "2025-03-27T04:45:03.153153Z",
     "start_time": "2025-03-27T04:44:55.657360Z"
    }
   },
   "cell_type": "code",
   "source": [
    "rdd = sc.parallelize([(\"a\", 1), (\"b\", 2), (\"a\", 3), (\"b\", 4), (\"a\", 5), (\"c\", 6)])\n",
    "print(rdd.countByKey())  # {'a': 3, 'b': 2, 'c': 1}"
   ],
   "id": "95bb0030121f78ae",
   "outputs": [
    {
     "name": "stdout",
     "output_type": "stream",
     "text": [
      "defaultdict(<class 'int'>, {'a': 3, 'b': 2, 'c': 1})\n"
     ]
    }
   ],
   "execution_count": 48
  },
  {
   "metadata": {},
   "cell_type": "markdown",
   "source": "- reduce(func): Aggregates elements using a function",
   "id": "fb90108d83905a4c"
  },
  {
   "metadata": {
    "ExecuteTime": {
     "end_time": "2025-03-27T04:44:18.278754Z",
     "start_time": "2025-03-27T04:44:10.524673Z"
    }
   },
   "cell_type": "code",
   "source": [
    "rdd = sc.parallelize([1, 2, 3, 4])\n",
    "print(rdd.reduce(lambda x, y: x + y))  # 10"
   ],
   "id": "5c801a79957075e8",
   "outputs": [
    {
     "name": "stdout",
     "output_type": "stream",
     "text": [
      "10\n"
     ]
    }
   ],
   "execution_count": 47
  }
 ],
 "metadata": {
  "kernelspec": {
   "display_name": "Python 3",
   "language": "python",
   "name": "python3"
  },
  "language_info": {
   "codemirror_mode": {
    "name": "ipython",
    "version": 2
   },
   "file_extension": ".py",
   "mimetype": "text/x-python",
   "name": "python",
   "nbconvert_exporter": "python",
   "pygments_lexer": "ipython2",
   "version": "2.7.6"
  }
 },
 "nbformat": 4,
 "nbformat_minor": 5
}
