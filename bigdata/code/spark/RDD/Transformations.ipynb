{
 "cells": [
  {
   "cell_type": "code",
   "id": "initial_id",
   "metadata": {
    "collapsed": true,
    "ExecuteTime": {
     "end_time": "2025-03-27T04:54:55.816365Z",
     "start_time": "2025-03-27T04:54:50.796112Z"
    }
   },
   "source": [
    "from pyspark.sql import SparkSession\n",
    "\n",
    "spark = (SparkSession.builder.appName(\"Transformations\")\n",
    "         .master(\"local[*]\")\n",
    "         .config(\"spark.executor.memory\", \"1g\")\n",
    "         .getOrCreate()\n",
    "         )\n",
    "\n",
    "sc = spark.sparkContext"
   ],
   "outputs": [],
   "execution_count": 1
  },
  {
   "metadata": {},
   "cell_type": "markdown",
   "source": "# 1. Map & FlatMap",
   "id": "127e1b7b479935e5"
  },
  {
   "metadata": {},
   "cell_type": "markdown",
   "source": "- map(func): Applies a function to each element and returns a new RDD",
   "id": "433fac816811519a"
  },
  {
   "metadata": {
    "ExecuteTime": {
     "end_time": "2025-03-27T04:55:04.010951Z",
     "start_time": "2025-03-27T04:54:55.816365Z"
    }
   },
   "cell_type": "code",
   "source": [
    "rdd = sc.parallelize([1, 2, 3, 4])\n",
    "rdd_map = rdd.map(lambda x: x * 2)\n",
    "print(rdd_map.collect())  # [2, 4, 6, 8]"
   ],
   "id": "fe32a3bf9f3291d4",
   "outputs": [
    {
     "name": "stdout",
     "output_type": "stream",
     "text": [
      "[2, 4, 6, 8]\n"
     ]
    }
   ],
   "execution_count": 2
  },
  {
   "metadata": {},
   "cell_type": "markdown",
   "source": "- flatMap(func): Similar to map, but flattens the result",
   "id": "8ec1d566642f2d24"
  },
  {
   "metadata": {
    "ExecuteTime": {
     "end_time": "2025-03-27T04:55:11.670270Z",
     "start_time": "2025-03-27T04:55:04.241841Z"
    }
   },
   "cell_type": "code",
   "source": [
    "rdd = sc.parallelize([\"hello world\", \"spark rdd\"])\n",
    "rdd_flatmap = rdd.flatMap(lambda x: x.split(\" \"))\n",
    "print(rdd_flatmap.collect())  # ['hello', 'world', 'spark', 'rdd']"
   ],
   "id": "e20cad222b593e5c",
   "outputs": [
    {
     "name": "stdout",
     "output_type": "stream",
     "text": [
      "['hello', 'world', 'spark', 'rdd']\n"
     ]
    }
   ],
   "execution_count": 3
  },
  {
   "metadata": {},
   "cell_type": "markdown",
   "source": "# 2. Filtering",
   "id": "39b1d6f264df8e1d"
  },
  {
   "metadata": {},
   "cell_type": "markdown",
   "source": "- filter(func): Returns an RDD with elements that satisfy a condition",
   "id": "e1e3c31dae6068a5"
  },
  {
   "metadata": {
    "ExecuteTime": {
     "end_time": "2025-03-27T04:55:19.484355Z",
     "start_time": "2025-03-27T04:55:11.685919Z"
    }
   },
   "cell_type": "code",
   "source": [
    "rdd = sc.parallelize([1, 2, 3, 4, 5, 6])\n",
    "rdd_filter = rdd.filter(lambda x: x % 2 == 0)\n",
    "print(rdd_filter.collect())  # [2, 4, 6]"
   ],
   "id": "eafdea96aa63d333",
   "outputs": [
    {
     "name": "stdout",
     "output_type": "stream",
     "text": [
      "[2, 4, 6]\n"
     ]
    }
   ],
   "execution_count": 4
  },
  {
   "metadata": {},
   "cell_type": "markdown",
   "source": "# 3. Distinct",
   "id": "67cca73c6d96de68"
  },
  {
   "metadata": {},
   "cell_type": "markdown",
   "source": "- distinct(): Removes duplicate elements",
   "id": "9e6b4783ee448cdc"
  },
  {
   "metadata": {
    "ExecuteTime": {
     "end_time": "2025-03-27T04:55:35.320341Z",
     "start_time": "2025-03-27T04:55:19.499981Z"
    }
   },
   "cell_type": "code",
   "source": [
    "rdd = sc.parallelize([1, 2, 2, 3, 3, 4])\n",
    "rdd_distinct = rdd.distinct()\n",
    "print(rdd_distinct.collect())  # [1, 2, 3, 4]"
   ],
   "id": "850a201c3e6e2af4",
   "outputs": [
    {
     "name": "stdout",
     "output_type": "stream",
     "text": [
      "[1, 2, 3, 4]\n"
     ]
    }
   ],
   "execution_count": 5
  },
  {
   "metadata": {},
   "cell_type": "markdown",
   "source": "# 4. Set Operations",
   "id": "f51cac87ea8843ec"
  },
  {
   "metadata": {},
   "cell_type": "markdown",
   "source": "- union(otherRDD): Merges two RDDs",
   "id": "5b3ae268ac7a7993"
  },
  {
   "metadata": {
    "ExecuteTime": {
     "end_time": "2025-03-27T04:55:35.493018Z",
     "start_time": "2025-03-27T04:55:35.346737Z"
    }
   },
   "cell_type": "code",
   "source": [
    "rdd1 = sc.parallelize([1, 2, 3])\n",
    "rdd2 = sc.parallelize([3, 4, 5])\n",
    "rdd_union = rdd1.union(rdd2)\n",
    "print(rdd_union.collect())  # [1, 2, 3, 3, 4, 5]"
   ],
   "id": "bef695d2d15273",
   "outputs": [
    {
     "name": "stdout",
     "output_type": "stream",
     "text": [
      "[1, 2, 3, 3, 4, 5]\n"
     ]
    }
   ],
   "execution_count": 6
  },
  {
   "metadata": {},
   "cell_type": "markdown",
   "source": "- intersection(otherRDD): Returns common elements",
   "id": "e80c975e7ec2e486"
  },
  {
   "metadata": {
    "ExecuteTime": {
     "end_time": "2025-03-27T04:56:21.134177Z",
     "start_time": "2025-03-27T04:55:35.516418Z"
    }
   },
   "cell_type": "code",
   "source": [
    "rdd1 = sc.parallelize([1, 2, 3])\n",
    "rdd2 = sc.parallelize([3, 4, 5])\n",
    "rdd_intersection = rdd1.intersection(rdd2)\n",
    "print(rdd_intersection.collect())  # [3]"
   ],
   "id": "59d8c4ef58ce41ec",
   "outputs": [
    {
     "name": "stdout",
     "output_type": "stream",
     "text": [
      "[3]\n"
     ]
    }
   ],
   "execution_count": 7
  },
  {
   "metadata": {},
   "cell_type": "markdown",
   "source": "- subtract(otherRDD): Returns elements in RDD1 but not in RDD2",
   "id": "faded336a87076d6"
  },
  {
   "metadata": {
    "ExecuteTime": {
     "end_time": "2025-03-27T04:57:05.176829Z",
     "start_time": "2025-03-27T04:56:21.153429Z"
    }
   },
   "cell_type": "code",
   "source": [
    "rdd1 = sc.parallelize([1, 2, 3])\n",
    "rdd2 = sc.parallelize([3, 4, 5])\n",
    "rdd_subtract = rdd1.subtract(rdd2)\n",
    "print(rdd_subtract.collect())  # [1, 2]"
   ],
   "id": "a4f27bbe71989196",
   "outputs": [
    {
     "name": "stdout",
     "output_type": "stream",
     "text": [
      "[1, 2]\n"
     ]
    }
   ],
   "execution_count": 8
  },
  {
   "metadata": {},
   "cell_type": "markdown",
   "source": "# 5. Grouping",
   "id": "3c252e18273417f9"
  },
  {
   "metadata": {},
   "cell_type": "markdown",
   "source": "- groupByKey(func): Groups elements based on a function",
   "id": "3a680b9b7315d2d9"
  },
  {
   "metadata": {
    "ExecuteTime": {
     "end_time": "2025-03-27T04:57:20.392461Z",
     "start_time": "2025-03-27T04:57:05.221597Z"
    }
   },
   "cell_type": "code",
   "source": [
    "rdd = sc.parallelize([(\"a\", 1), (\"b\", 2), (\"a\", 3)])\n",
    "rdd_group = rdd.groupByKey().mapValues(list)\n",
    "print(rdd_group.collect())  # [('a', [1, 3]), ('b', [2])]"
   ],
   "id": "41311abbe731c7ca",
   "outputs": [
    {
     "name": "stdout",
     "output_type": "stream",
     "text": [
      "[('b', [2]), ('a', [1, 3])]\n"
     ]
    }
   ],
   "execution_count": 9
  },
  {
   "metadata": {},
   "cell_type": "markdown",
   "source": "- reduceByKey(func): Merges values for each key",
   "id": "1c01ce5403ef5ea8"
  },
  {
   "metadata": {
    "ExecuteTime": {
     "end_time": "2025-03-27T04:57:35.806520Z",
     "start_time": "2025-03-27T04:57:20.414183Z"
    }
   },
   "cell_type": "code",
   "source": [
    "rdd = sc.parallelize([(\"a\", 1), (\"b\", 2), (\"a\", 3)])\n",
    "rdd_reduce = rdd.reduceByKey(lambda x, y: x + y)\n",
    "print(rdd_reduce.collect())  # [('a', 4), ('b', 2)]"
   ],
   "id": "6c5181aa5ad41ed7",
   "outputs": [
    {
     "name": "stdout",
     "output_type": "stream",
     "text": [
      "[('b', 2), ('a', 4)]\n"
     ]
    }
   ],
   "execution_count": 10
  },
  {
   "metadata": {},
   "cell_type": "markdown",
   "source": "- aggregateByKey(zeroValue, seqFunc, combFunc): More customizable reduction",
   "id": "21123d196dccf683"
  },
  {
   "metadata": {
    "ExecuteTime": {
     "end_time": "2025-03-27T04:57:50.496557Z",
     "start_time": "2025-03-27T04:57:35.824355Z"
    }
   },
   "cell_type": "code",
   "source": [
    "rdd = sc.parallelize([(\"a\", 1), (\"b\", 2), (\"a\", 3), (\"b\", 4)])\n",
    "\n",
    "result = rdd.aggregateByKey(\n",
    "    (0, 0),  # (Sum, Count)\n",
    "    lambda acc, value: (acc[0] + value, acc[1] + 1),  # In the same partition\n",
    "    lambda acc1, acc2: (acc1[0] + acc2[0], acc1[1] + acc2[1])  # Across partitions\n",
    ")\n",
    "\n",
    "print(result.collect())"
   ],
   "id": "a20a25c58d7d86d8",
   "outputs": [
    {
     "name": "stdout",
     "output_type": "stream",
     "text": [
      "[('b', (6, 2)), ('a', (4, 2))]\n"
     ]
    }
   ],
   "execution_count": 11
  },
  {
   "metadata": {},
   "cell_type": "markdown",
   "source": "# 6. Sorting",
   "id": "1f4a5417c768fcd2"
  },
  {
   "metadata": {},
   "cell_type": "markdown",
   "source": "- sortBy(func, ascending=True): Sorts elements based on a function",
   "id": "fcc278e7094e47a7"
  },
  {
   "metadata": {
    "ExecuteTime": {
     "end_time": "2025-03-27T04:58:19.518861Z",
     "start_time": "2025-03-27T04:57:50.512201Z"
    }
   },
   "cell_type": "code",
   "source": [
    "rdd = sc.parallelize([5, 1, 3, 2, 4])\n",
    "sorted_rdd = rdd.sortBy(lambda x: x, ascending=False)\n",
    "print(sorted_rdd.collect())  # [5, 4, 3, 2, 1]"
   ],
   "id": "cadfa51ba1abc069",
   "outputs": [
    {
     "name": "stdout",
     "output_type": "stream",
     "text": [
      "[5, 4, 3, 2, 1]\n"
     ]
    }
   ],
   "execution_count": 12
  }
 ],
 "metadata": {
  "kernelspec": {
   "display_name": "Python 3",
   "language": "python",
   "name": "python3"
  },
  "language_info": {
   "codemirror_mode": {
    "name": "ipython",
    "version": 2
   },
   "file_extension": ".py",
   "mimetype": "text/x-python",
   "name": "python",
   "nbconvert_exporter": "python",
   "pygments_lexer": "ipython2",
   "version": "2.7.6"
  }
 },
 "nbformat": 4,
 "nbformat_minor": 5
}
