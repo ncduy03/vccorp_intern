{
 "cells": [
  {
   "cell_type": "code",
   "id": "initial_id",
   "metadata": {
    "collapsed": true,
    "ExecuteTime": {
     "end_time": "2025-03-26T14:20:57.678480Z",
     "start_time": "2025-03-26T14:20:52.843236Z"
    }
   },
   "source": [
    "from pyspark.sql import SparkSession\n",
    "\n",
    "spark = (SparkSession.builder.appName(\"customer_data\")\n",
    "         .master(\"local[*]\")\n",
    "         .config(\"spark.executor.memory\", \"1g\")\n",
    "         .getOrCreate()\n",
    "         )"
   ],
   "outputs": [],
   "execution_count": 1
  },
  {
   "metadata": {
    "ExecuteTime": {
     "end_time": "2025-03-26T14:20:57.694125Z",
     "start_time": "2025-03-26T14:20:57.678480Z"
    }
   },
   "cell_type": "code",
   "source": [
    "customer_data = [\n",
    "\"customer_id,name,city,state,country,registration_date,is_active\",\n",
    "\"0,Customer_0,Pune,Maharashtra,India,2023-06-29,False\",\n",
    "\"1,Customer_1,Bangalore,Tamil Nadu,India,2023-12-07,True\",\n",
    "\"2,Customer_2,Hyderabad,Gujarat,India,2023-10-27,True\",\n",
    "\"3,Customer_3,Bangalore,Karnataka,India,2023-10-17,False\",\n",
    "\"4,Customer_4,Ahmedabad,Karnataka,India,2023-03-14,False\",\n",
    "\"5,Customer_5,Hyderabad,Karnataka,India,2023-07-28,False\"\n",
    "]"
   ],
   "id": "31536c0cf15f11af",
   "outputs": [],
   "execution_count": 2
  },
  {
   "metadata": {
    "ExecuteTime": {
     "end_time": "2025-03-26T14:20:58.234128Z",
     "start_time": "2025-03-26T14:20:57.897695Z"
    }
   },
   "cell_type": "code",
   "source": "data_rdd = spark.sparkContext.parallelize(customer_data)",
   "id": "90b6799264679817",
   "outputs": [],
   "execution_count": 3
  },
  {
   "metadata": {
    "ExecuteTime": {
     "end_time": "2025-03-26T14:20:58.281003Z",
     "start_time": "2025-03-26T14:20:58.249757Z"
    }
   },
   "cell_type": "code",
   "source": "data_rdd.getNumPartitions()",
   "id": "43a087a36707b42a",
   "outputs": [
    {
     "data": {
      "text/plain": [
       "12"
      ]
     },
     "execution_count": 4,
     "metadata": {},
     "output_type": "execute_result"
    }
   ],
   "execution_count": 4
  },
  {
   "metadata": {
    "ExecuteTime": {
     "end_time": "2025-03-26T14:21:01.728589Z",
     "start_time": "2025-03-26T14:20:58.317015Z"
    }
   },
   "cell_type": "code",
   "source": "header = data_rdd.first()",
   "id": "fe1cd5e537f2122e",
   "outputs": [],
   "execution_count": 5
  },
  {
   "metadata": {
    "ExecuteTime": {
     "end_time": "2025-03-26T14:21:01.833609Z",
     "start_time": "2025-03-26T14:21:01.813837Z"
    }
   },
   "cell_type": "code",
   "source": "header",
   "id": "c23b32f652db0b43",
   "outputs": [
    {
     "data": {
      "text/plain": [
       "'customer_id,name,city,state,country,registration_date,is_active'"
      ]
     },
     "execution_count": 6,
     "metadata": {},
     "output_type": "execute_result"
    }
   ],
   "execution_count": 6
  },
  {
   "metadata": {
    "ExecuteTime": {
     "end_time": "2025-03-26T14:21:01.895071Z",
     "start_time": "2025-03-26T14:21:01.848866Z"
    }
   },
   "cell_type": "code",
   "source": [
    "#Filter\n",
    "data_rdd = data_rdd.filter(lambda row: row != header)"
   ],
   "id": "bf2a88f7bc1c4870",
   "outputs": [],
   "execution_count": 7
  },
  {
   "metadata": {
    "ExecuteTime": {
     "end_time": "2025-03-26T14:21:01.928584Z",
     "start_time": "2025-03-26T14:21:01.913487Z"
    }
   },
   "cell_type": "code",
   "source": "data_rdd",
   "id": "72895fd8048eb45",
   "outputs": [
    {
     "data": {
      "text/plain": [
       "PythonRDD[3] at RDD at PythonRDD.scala:53"
      ]
     },
     "execution_count": 8,
     "metadata": {},
     "output_type": "execute_result"
    }
   ],
   "execution_count": 8
  },
  {
   "metadata": {
    "ExecuteTime": {
     "end_time": "2025-03-26T14:21:09.288865Z",
     "start_time": "2025-03-26T14:21:01.946589Z"
    }
   },
   "cell_type": "code",
   "source": "data_rdd.collect()",
   "id": "653e34015bfec31d",
   "outputs": [
    {
     "data": {
      "text/plain": [
       "['0,Customer_0,Pune,Maharashtra,India,2023-06-29,False',\n",
       " '1,Customer_1,Bangalore,Tamil Nadu,India,2023-12-07,True',\n",
       " '2,Customer_2,Hyderabad,Gujarat,India,2023-10-27,True',\n",
       " '3,Customer_3,Bangalore,Karnataka,India,2023-10-17,False',\n",
       " '4,Customer_4,Ahmedabad,Karnataka,India,2023-03-14,False',\n",
       " '5,Customer_5,Hyderabad,Karnataka,India,2023-07-28,False']"
      ]
     },
     "execution_count": 9,
     "metadata": {},
     "output_type": "execute_result"
    }
   ],
   "execution_count": 9
  },
  {
   "metadata": {
    "ExecuteTime": {
     "end_time": "2025-03-26T14:21:12.369697Z",
     "start_time": "2025-03-26T14:21:09.298922Z"
    }
   },
   "cell_type": "code",
   "source": [
    "first_row = data_rdd.first()\n",
    "print(first_row.split(\",\")[6] == \"True\")"
   ],
   "id": "9f16102b58cbd25e",
   "outputs": [
    {
     "name": "stdout",
     "output_type": "stream",
     "text": [
      "False\n"
     ]
    }
   ],
   "execution_count": 10
  },
  {
   "metadata": {
    "ExecuteTime": {
     "end_time": "2025-03-26T14:21:12.389020Z",
     "start_time": "2025-03-26T14:21:12.381117Z"
    }
   },
   "cell_type": "code",
   "source": [
    "def parse_row(row):\n",
    "    field = row.split(\",\")\n",
    "    return (\n",
    "        int(field[0]),\n",
    "        field[1],\n",
    "        field[2],\n",
    "        field[3],\n",
    "        field[4],\n",
    "        field[5],\n",
    "        field[6]==\"True\"\n",
    "    )"
   ],
   "id": "50aea3630abc7a1e",
   "outputs": [],
   "execution_count": 11
  },
  {
   "metadata": {
    "ExecuteTime": {
     "end_time": "2025-03-26T14:21:12.420690Z",
     "start_time": "2025-03-26T14:21:12.404665Z"
    }
   },
   "cell_type": "code",
   "source": "parsed_rdd = data_rdd.map(parse_row)",
   "id": "55e44ce9d9c8e881",
   "outputs": [],
   "execution_count": 12
  },
  {
   "metadata": {
    "ExecuteTime": {
     "end_time": "2025-03-26T14:21:19.269338Z",
     "start_time": "2025-03-26T14:21:12.438391Z"
    }
   },
   "cell_type": "code",
   "source": "parsed_rdd.collect()",
   "id": "af101d5d362c4e81",
   "outputs": [
    {
     "data": {
      "text/plain": [
       "[(0, 'Customer_0', 'Pune', 'Maharashtra', 'India', '2023-06-29', False),\n",
       " (1, 'Customer_1', 'Bangalore', 'Tamil Nadu', 'India', '2023-12-07', True),\n",
       " (2, 'Customer_2', 'Hyderabad', 'Gujarat', 'India', '2023-10-27', True),\n",
       " (3, 'Customer_3', 'Bangalore', 'Karnataka', 'India', '2023-10-17', False),\n",
       " (4, 'Customer_4', 'Ahmedabad', 'Karnataka', 'India', '2023-03-14', False),\n",
       " (5, 'Customer_5', 'Hyderabad', 'Karnataka', 'India', '2023-07-28', False)]"
      ]
     },
     "execution_count": 13,
     "metadata": {},
     "output_type": "execute_result"
    }
   ],
   "execution_count": 13
  },
  {
   "metadata": {},
   "cell_type": "markdown",
   "source": "# Advance RDD Operations",
   "id": "219e9d674e29e9a1"
  },
  {
   "metadata": {},
   "cell_type": "markdown",
   "source": "Extract with map() - customer and city",
   "id": "5825ce2291b1484c"
  },
  {
   "metadata": {
    "ExecuteTime": {
     "end_time": "2025-03-26T14:21:26.589596Z",
     "start_time": "2025-03-26T14:21:19.284392Z"
    }
   },
   "cell_type": "code",
   "source": [
    "name_city_rdd = parsed_rdd.map(lambda row: (row[1], row[2]))\n",
    "name_city_rdd.collect()"
   ],
   "id": "4307e95cc43ff34",
   "outputs": [
    {
     "data": {
      "text/plain": [
       "[('Customer_0', 'Pune'),\n",
       " ('Customer_1', 'Bangalore'),\n",
       " ('Customer_2', 'Hyderabad'),\n",
       " ('Customer_3', 'Bangalore'),\n",
       " ('Customer_4', 'Ahmedabad'),\n",
       " ('Customer_5', 'Hyderabad')]"
      ]
     },
     "execution_count": 14,
     "metadata": {},
     "output_type": "execute_result"
    }
   ],
   "execution_count": 14
  },
  {
   "metadata": {
    "ExecuteTime": {
     "end_time": "2025-03-26T14:21:33.910184Z",
     "start_time": "2025-03-26T14:21:26.623075Z"
    }
   },
   "cell_type": "code",
   "source": [
    "active_customer = parsed_rdd.filter(lambda row: row[6] == True)\n",
    "active_customer.collect()"
   ],
   "id": "c4c6836e079bb18e",
   "outputs": [
    {
     "data": {
      "text/plain": [
       "[(1, 'Customer_1', 'Bangalore', 'Tamil Nadu', 'India', '2023-12-07', True),\n",
       " (2, 'Customer_2', 'Hyderabad', 'Gujarat', 'India', '2023-10-27', True)]"
      ]
     },
     "execution_count": 15,
     "metadata": {},
     "output_type": "execute_result"
    }
   ],
   "execution_count": 15
  },
  {
   "metadata": {
    "ExecuteTime": {
     "end_time": "2025-03-26T14:21:48.309825Z",
     "start_time": "2025-03-26T14:21:33.927725Z"
    }
   },
   "cell_type": "code",
   "source": [
    "cities_rdd = parsed_rdd.map(lambda row: row[2]).distinct()\n",
    "cities_rdd.collect()"
   ],
   "id": "78ef295ce0c91d09",
   "outputs": [
    {
     "data": {
      "text/plain": [
       "['Pune', 'Hyderabad', 'Bangalore', 'Ahmedabad']"
      ]
     },
     "execution_count": 16,
     "metadata": {},
     "output_type": "execute_result"
    }
   ],
   "execution_count": 16
  },
  {
   "metadata": {
    "ExecuteTime": {
     "end_time": "2025-03-26T14:21:55.640570Z",
     "start_time": "2025-03-26T14:21:48.341762Z"
    }
   },
   "cell_type": "code",
   "source": [
    "# take()\n",
    "cities_rdd.take(2)"
   ],
   "id": "21fa4adb20065d4f",
   "outputs": [
    {
     "data": {
      "text/plain": [
       "['Pune', 'Hyderabad']"
      ]
     },
     "execution_count": 17,
     "metadata": {},
     "output_type": "execute_result"
    }
   ],
   "execution_count": 17
  },
  {
   "metadata": {},
   "cell_type": "markdown",
   "source": "Reduce by key (Transformation)",
   "id": "2558cfbe3ce1a280"
  },
  {
   "metadata": {
    "ExecuteTime": {
     "end_time": "2025-03-26T14:22:09.173380Z",
     "start_time": "2025-03-26T14:21:55.662846Z"
    }
   },
   "cell_type": "code",
   "source": [
    "customers_per_city = parsed_rdd.map(lambda row: (row[2], 1)).reduceByKey(lambda x, y: x + y)\n",
    "customers_per_city.collect()"
   ],
   "id": "26419cd99d64c73b",
   "outputs": [
    {
     "data": {
      "text/plain": [
       "[('Pune', 1), ('Hyderabad', 2), ('Bangalore', 2), ('Ahmedabad', 1)]"
      ]
     },
     "execution_count": 18,
     "metadata": {},
     "output_type": "execute_result"
    }
   ],
   "execution_count": 18
  },
  {
   "metadata": {},
   "cell_type": "markdown",
   "source": "Count by value (Action)",
   "id": "e610fb85ea1f29aa"
  },
  {
   "metadata": {
    "ExecuteTime": {
     "end_time": "2025-03-26T14:22:15.952587Z",
     "start_time": "2025-03-26T14:22:09.192276Z"
    }
   },
   "cell_type": "code",
   "source": [
    "cust_per_city = parsed_rdd.map(lambda row: row[2]).countByValue()\n",
    "cust_per_city"
   ],
   "id": "e7bd3d24c782539b",
   "outputs": [
    {
     "data": {
      "text/plain": [
       "defaultdict(int, {'Pune': 1, 'Bangalore': 2, 'Hyderabad': 2, 'Ahmedabad': 1})"
      ]
     },
     "execution_count": 19,
     "metadata": {},
     "output_type": "execute_result"
    }
   ],
   "execution_count": 19
  },
  {
   "metadata": {},
   "cell_type": "markdown",
   "source": "# More Operations",
   "id": "efdbde407ba16e89"
  },
  {
   "metadata": {
    "ExecuteTime": {
     "end_time": "2025-03-26T14:22:29.405718Z",
     "start_time": "2025-03-26T14:22:16.008687Z"
    }
   },
   "cell_type": "code",
   "source": [
    "# Cities with active customer\n",
    "active_cities = (parsed_rdd.filter(lambda row: row[6] == True)\n",
    "                            .map(lambda row: row[2])\n",
    "                            .distinct())\n",
    "active_cities.collect()"
   ],
   "id": "987259527f65163",
   "outputs": [
    {
     "data": {
      "text/plain": [
       "['Hyderabad', 'Bangalore']"
      ]
     },
     "execution_count": 20,
     "metadata": {},
     "output_type": "execute_result"
    }
   ],
   "execution_count": 20
  },
  {
   "metadata": {
    "ExecuteTime": {
     "end_time": "2025-03-26T14:22:43.583179Z",
     "start_time": "2025-03-26T14:22:29.423572Z"
    }
   },
   "cell_type": "code",
   "source": [
    "# Count active customer by state\n",
    "active_cust_state = (parsed_rdd.filter(lambda row: row[6] == True)\n",
    "                               .map(lambda row: (row[3], 1))\n",
    "                               .reduceByKey(lambda x, y: x + y))\n",
    "active_cust_state.collect()"
   ],
   "id": "a0ef25ef581a4531",
   "outputs": [
    {
     "data": {
      "text/plain": [
       "[('Gujarat', 1), ('Tamil Nadu', 1)]"
      ]
     },
     "execution_count": 21,
     "metadata": {},
     "output_type": "execute_result"
    }
   ],
   "execution_count": 21
  }
 ],
 "metadata": {
  "kernelspec": {
   "display_name": "Python 3",
   "language": "python",
   "name": "python3"
  },
  "language_info": {
   "codemirror_mode": {
    "name": "ipython",
    "version": 2
   },
   "file_extension": ".py",
   "mimetype": "text/x-python",
   "name": "python",
   "nbconvert_exporter": "python",
   "pygments_lexer": "ipython2",
   "version": "2.7.6"
  }
 },
 "nbformat": 4,
 "nbformat_minor": 5
}
